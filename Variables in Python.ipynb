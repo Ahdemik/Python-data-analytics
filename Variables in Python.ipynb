{
 "cells": [
  {
   "cell_type": "markdown",
   "id": "2e2bd6ae-fc22-4023-b21c-d4e9e77c359d",
   "metadata": {},
   "source": [
    "# Variable"
   ]
  },
  {
   "cell_type": "markdown",
   "id": "4cf3f750-b398-4875-b5e3-28e28064da2a",
   "metadata": {},
   "source": [
    "varible is a container for storing data value. It is use as a substitute for a data value."
   ]
  },
  {
   "cell_type": "code",
   "execution_count": 18,
   "id": "0e199bfd-b5df-40a1-a895-338ac1f8fa1c",
   "metadata": {},
   "outputs": [
    {
     "name": "stdout",
     "output_type": "stream",
     "text": [
      "hello world\n"
     ]
    }
   ],
   "source": [
    "print('hello world')"
   ]
  },
  {
   "cell_type": "markdown",
   "id": "4d518b5a-d92a-4ff0-89cc-7ee90e5300f2",
   "metadata": {},
   "source": [
    "# Assigning Value to a Variable"
   ]
  },
  {
   "cell_type": "code",
   "execution_count": 21,
   "id": "bcf9702f-9c26-46fd-a588-1c2a50dd3f9a",
   "metadata": {},
   "outputs": [
    {
     "name": "stdout",
     "output_type": "stream",
     "text": [
      "22\n"
     ]
    }
   ],
   "source": [
    "x=22\n",
    "\n",
    "print(x)"
   ]
  },
  {
   "cell_type": "code",
   "execution_count": 4,
   "id": "43740161-46f1-4f0c-b236-c9b169cb18c7",
   "metadata": {},
   "outputs": [
    {
     "data": {
      "text/plain": [
       "int"
      ]
     },
     "execution_count": 4,
     "metadata": {},
     "output_type": "execute_result"
    }
   ],
   "source": [
    "type(x)"
   ]
  },
  {
   "cell_type": "code",
   "execution_count": 10,
   "id": "d58a04b2-1827-4a74-ab69-1e56261ceeaa",
   "metadata": {},
   "outputs": [
    {
     "name": "stdout",
     "output_type": "stream",
     "text": [
      "Micheal\n"
     ]
    }
   ],
   "source": [
    "y='Micheal'\n",
    "\n",
    "print(y)"
   ]
  },
  {
   "cell_type": "code",
   "execution_count": 12,
   "id": "a1edf621-8adc-4116-bf03-a2fbb4733c2a",
   "metadata": {},
   "outputs": [
    {
     "data": {
      "text/plain": [
       "str"
      ]
     },
     "execution_count": 12,
     "metadata": {},
     "output_type": "execute_result"
    }
   ],
   "source": [
    "type(y)"
   ]
  },
  {
   "cell_type": "markdown",
   "id": "c3a2b3c8-c727-4655-90c2-58ea573ea55d",
   "metadata": {},
   "source": [
    " # Overwriting a variable"
   ]
  },
  {
   "cell_type": "code",
   "execution_count": 21,
   "id": "9e7a75ff-b160-4b09-beb2-9232db57c650",
   "metadata": {},
   "outputs": [
    {
     "name": "stdout",
     "output_type": "stream",
     "text": [
      "Victor\n"
     ]
    }
   ],
   "source": [
    "y= 'Micheal'\n",
    "\n",
    "y='Victor'\n",
    "\n",
    "print(y)"
   ]
  },
  {
   "cell_type": "markdown",
   "id": "7f058954-b420-4937-bf93-8473178112b7",
   "metadata": {},
   "source": [
    "# Variables are case sensitive"
   ]
  },
  {
   "cell_type": "code",
   "execution_count": 24,
   "id": "6d2df140-23c0-4b19-8adf-a29b7bccd43e",
   "metadata": {},
   "outputs": [
    {
     "name": "stdout",
     "output_type": "stream",
     "text": [
      "Micheal\n"
     ]
    }
   ],
   "source": [
    "y= 'Micheal'\n",
    "\n",
    "Y='Victor'\n",
    "\n",
    "print(y)"
   ]
  },
  {
   "cell_type": "code",
   "execution_count": 26,
   "id": "554a1e54-b6ad-4881-8b11-77988efb0ac9",
   "metadata": {},
   "outputs": [
    {
     "name": "stdout",
     "output_type": "stream",
     "text": [
      "Victor\n"
     ]
    }
   ],
   "source": [
    "y= 'Micheal'\n",
    "\n",
    "Y='Victor'\n",
    "\n",
    "print(Y)"
   ]
  },
  {
   "cell_type": "markdown",
   "id": "5de646f8-99d2-4814-8c3a-7397080ce8ae",
   "metadata": {},
   "source": [
    "# Assigning Values to multiple Variables"
   ]
  },
  {
   "cell_type": "code",
   "execution_count": 28,
   "id": "301f1b38-ec4f-4dda-aaa9-da436053c5a1",
   "metadata": {},
   "outputs": [
    {
     "name": "stdout",
     "output_type": "stream",
     "text": [
      "Micheal\n",
      "Iyanzy\n",
      "Victor\n"
     ]
    }
   ],
   "source": [
    "x,y,z='Micheal','Iyanzy','Victor'\n",
    "print(x)\n",
    "print(y)\n",
    "print(z)"
   ]
  },
  {
   "cell_type": "code",
   "execution_count": 36,
   "id": "49d3d374-7eda-4b6b-afa2-fcc088a3219f",
   "metadata": {},
   "outputs": [
    {
     "name": "stdout",
     "output_type": "stream",
     "text": [
      "Micheal\n",
      "Micheal\n",
      "Micheal\n"
     ]
    }
   ],
   "source": [
    "x=y=z='Micheal'\n",
    "\n",
    "print(x)\n",
    "print(y)\n",
    "print(z)"
   ]
  },
  {
   "cell_type": "markdown",
   "id": "de53ab71-e17e-4b74-9e7d-49df278e16aa",
   "metadata": {},
   "source": [
    "# Creating list"
   ]
  },
  {
   "cell_type": "code",
   "execution_count": 2,
   "id": "1b4caec5-9fb7-4364-87b8-6bdb65a48082",
   "metadata": {},
   "outputs": [
    {
     "name": "stdout",
     "output_type": "stream",
     "text": [
      "Micheal\n",
      "Iyanzy\n",
      "Victor\n"
     ]
    }
   ],
   "source": [
    "Family_for_life= ('Micheal','Iyanzy','Victor')\n",
    "\n",
    "x,y,z= Family_for_life\n",
    "\n",
    "print(x)\n",
    "print(y)\n",
    "print(z)\n"
   ]
  },
  {
   "cell_type": "markdown",
   "id": "76bc4924-83fc-45bc-9f5d-e89be2dfc51e",
   "metadata": {},
   "source": [
    "# Different ways of naming variable"
   ]
  },
  {
   "cell_type": "code",
   "execution_count": 9,
   "id": "1c95c5d4-343e-4a7d-8522-82dfbdfbaf3d",
   "metadata": {},
   "outputs": [
    {
     "name": "stdout",
     "output_type": "stream",
     "text": [
      "Micheal\n"
     ]
    }
   ],
   "source": [
    "# camel case\n",
    "\n",
    "testVariableCase='Micheal'\n",
    "\n",
    "print(testVariableCase)\n"
   ]
  },
  {
   "cell_type": "code",
   "execution_count": 7,
   "id": "e59c964d-668f-4145-a81e-bb7ebd9cda6a",
   "metadata": {},
   "outputs": [],
   "source": [
    "# Pascal case\n",
    "TestVariableCase='Micheal'"
   ]
  },
  {
   "cell_type": "code",
   "execution_count": 11,
   "id": "f917bcee-8781-4780-ad6b-a9be7cb1777f",
   "metadata": {},
   "outputs": [],
   "source": [
    "#Snake Case\n",
    "Test_Variable_Case='Micheal'\n"
   ]
  },
  {
   "cell_type": "code",
   "execution_count": 30,
   "id": "4ba7df68-45c1-4233-836a-bce5f9057bdc",
   "metadata": {},
   "outputs": [
    {
     "name": "stdout",
     "output_type": "stream",
     "text": [
      "I am Adeyemi Micheal.\n"
     ]
    }
   ],
   "source": [
    "X='I am Adeyemi Micheal.'\n",
    "print(x)"
   ]
  },
  {
   "cell_type": "markdown",
   "id": "71a48adc-f71e-4098-9add-894ae7877e1f",
   "metadata": {},
   "source": [
    "# Using + sign add strings together"
   ]
  },
  {
   "cell_type": "code",
   "execution_count": 24,
   "id": "a46ecc4e-fb21-4c20-b98f-316da803898b",
   "metadata": {},
   "outputs": [
    {
     "name": "stdout",
     "output_type": "stream",
     "text": [
      "I am Adeyemi Micheal and I am a Data Analyst.\n"
     ]
    }
   ],
   "source": [
    "x = 'I am Adeyemi Micheal and I am a Data Analyst' + '.'\n",
    "\n",
    "print(x)"
   ]
  },
  {
   "cell_type": "code",
   "execution_count": 26,
   "id": "a54d9cbc-b374-4417-9963-a24e1e42210b",
   "metadata": {},
   "outputs": [
    {
     "name": "stdout",
     "output_type": "stream",
     "text": [
      "55\n"
     ]
    }
   ],
   "source": [
    "y= 10+45\n",
    "\n",
    "print(y)"
   ]
  },
  {
   "cell_type": "code",
   "execution_count": 36,
   "id": "a40ba750-043e-4d3d-8342-aa62f22b0b04",
   "metadata": {},
   "outputs": [
    {
     "name": "stdout",
     "output_type": "stream",
     "text": [
      "Micheal studied Agricultural Economics.Iyanzy studied Civil Engineering,While Victor studied Mechanical Engineering.\n"
     ]
    }
   ],
   "source": [
    "x='Micheal studied Agricultural Economics.'\n",
    "y='Iyanzy studied Civil Engineering,'\n",
    "z='While Victor studied Mechanical Engineering.'\n",
    "\n",
    "print(x+y+z)"
   ]
  },
  {
   "cell_type": "code",
   "execution_count": 38,
   "id": "2a772979-fe90-4182-9f2f-c96bfb65eabc",
   "metadata": {},
   "outputs": [
    {
     "name": "stdout",
     "output_type": "stream",
     "text": [
      "60\n"
     ]
    }
   ],
   "source": [
    "x=10\n",
    "y=20\n",
    "z=30\n",
    "\n",
    "print(x+y+z)\n"
   ]
  },
  {
   "cell_type": "code",
   "execution_count": null,
   "id": "3d76840c-4989-4f32-bf1a-08cdb66c23d5",
   "metadata": {},
   "outputs": [],
   "source": []
  }
 ],
 "metadata": {
  "kernelspec": {
   "display_name": "Python 3 (ipykernel)",
   "language": "python",
   "name": "python3"
  },
  "language_info": {
   "codemirror_mode": {
    "name": "ipython",
    "version": 3
   },
   "file_extension": ".py",
   "mimetype": "text/x-python",
   "name": "python",
   "nbconvert_exporter": "python",
   "pygments_lexer": "ipython3",
   "version": "3.12.4"
  }
 },
 "nbformat": 4,
 "nbformat_minor": 5
}
