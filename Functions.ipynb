{
 "cells": [
  {
   "cell_type": "markdown",
   "id": "2efad681-0cbd-48de-b531-b5ad19d8d512",
   "metadata": {},
   "source": [
    "# Function\n",
    "Function is block of code which is only run when you call it"
   ]
  },
  {
   "cell_type": "code",
   "execution_count": 1,
   "id": "f4da1d71-db73-4fac-9e7c-a5e9cc4099de",
   "metadata": {},
   "outputs": [],
   "source": [
    "def first_func():\n",
    "    print('okay')"
   ]
  },
  {
   "cell_type": "code",
   "execution_count": 3,
   "id": "0aec9fc6-6cf7-4a91-b6d4-3207a72776fb",
   "metadata": {},
   "outputs": [
    {
     "name": "stdout",
     "output_type": "stream",
     "text": [
      "okay\n"
     ]
    }
   ],
   "source": [
    "first_func()"
   ]
  },
  {
   "cell_type": "code",
   "execution_count": 5,
   "id": "afedec57-3463-4a3f-b304-ff73be5f1343",
   "metadata": {},
   "outputs": [],
   "source": [
    "#Arguments\n",
    "def Square(number):\n",
    "    print(number**3)"
   ]
  },
  {
   "cell_type": "code",
   "execution_count": 7,
   "id": "84895f94-1ca8-4aa4-a801-2336abced2b9",
   "metadata": {},
   "outputs": [
    {
     "name": "stdout",
     "output_type": "stream",
     "text": [
      "64\n"
     ]
    }
   ],
   "source": [
    " Square(4)"
   ]
  },
  {
   "cell_type": "code",
   "execution_count": 13,
   "id": "e9c1850b-355c-42cd-9864-f07e6dc908f9",
   "metadata": {},
   "outputs": [],
   "source": [
    "def power(number,power):\n",
    "    print(number**power)"
   ]
  },
  {
   "cell_type": "code",
   "execution_count": 15,
   "id": "6199dd3a-b0ef-4204-b780-18db320a6435",
   "metadata": {},
   "outputs": [
    {
     "name": "stdout",
     "output_type": "stream",
     "text": [
      "32\n"
     ]
    }
   ],
   "source": [
    "power(2,5)"
   ]
  },
  {
   "cell_type": "code",
   "execution_count": 27,
   "id": "14781d3a-d112-4a75-80a2-9ee3c684cfc1",
   "metadata": {},
   "outputs": [],
   "source": [
    "#Arbitrary Arguments\n",
    "\n",
    "args_tuple = (5,6,3,4,5)\n",
    "def number_args(*number):\n",
    "    print(number[1]*number[3])"
   ]
  },
  {
   "cell_type": "code",
   "execution_count": 29,
   "id": "b5a30da1-cbcd-41d4-9ffa-d039cf514202",
   "metadata": {},
   "outputs": [
    {
     "name": "stdout",
     "output_type": "stream",
     "text": [
      "24\n"
     ]
    }
   ],
   "source": [
    "number_args(*args_tuple)"
   ]
  },
  {
   "cell_type": "code",
   "execution_count": null,
   "id": "59d42b40-cbea-4723-aebe-1bec1943e245",
   "metadata": {},
   "outputs": [],
   "source": [
    "#keyword argument"
   ]
  },
  {
   "cell_type": "code",
   "execution_count": null,
   "id": "13e8e237-06f0-47bc-949c-4d21ea35d9c1",
   "metadata": {},
   "outputs": [],
   "source": [
    "def power(number,power):\n",
    "    print(number**power)"
   ]
  },
  {
   "cell_type": "code",
   "execution_count": 33,
   "id": "6420c8ea-c7bc-440f-9096-a9b23b145f39",
   "metadata": {},
   "outputs": [
    {
     "name": "stdout",
     "output_type": "stream",
     "text": [
      "81\n"
     ]
    }
   ],
   "source": [
    "power(power = 4, number = 3)"
   ]
  },
  {
   "cell_type": "code",
   "execution_count": 45,
   "id": "832d4a73-aae8-4ba4-b823-da9e872cd9d2",
   "metadata": {},
   "outputs": [],
   "source": [
    "def number_kwarg(**number):\n",
    "    print('my number is: '+ number['integer']+ number['space']  + number['integer2'])"
   ]
  },
  {
   "cell_type": "code",
   "execution_count": 47,
   "id": "bec96124-5696-4b7c-a1c4-e3ceb8a853f1",
   "metadata": {},
   "outputs": [
    {
     "name": "stdout",
     "output_type": "stream",
     "text": [
      "my number is: 10,20\n"
     ]
    }
   ],
   "source": [
    "number_kwarg(integer = '10', integer2 = '20', space = ',')"
   ]
  },
  {
   "cell_type": "code",
   "execution_count": null,
   "id": "9d5aee54-3278-4fed-a251-b8104c2c0c32",
   "metadata": {},
   "outputs": [],
   "source": []
  },
  {
   "cell_type": "code",
   "execution_count": null,
   "id": "dc08e101-d9f6-49ae-8dd1-615e5fdb7522",
   "metadata": {},
   "outputs": [],
   "source": []
  },
  {
   "cell_type": "code",
   "execution_count": null,
   "id": "de9206ed-f90c-40ab-a249-0e0c7cfc8186",
   "metadata": {},
   "outputs": [],
   "source": []
  },
  {
   "cell_type": "code",
   "execution_count": null,
   "id": "11708127-496f-4382-b553-6ccf2876d10d",
   "metadata": {},
   "outputs": [],
   "source": []
  },
  {
   "cell_type": "code",
   "execution_count": null,
   "id": "d9025dce-af6d-457b-9162-43acdd83d15c",
   "metadata": {},
   "outputs": [],
   "source": []
  },
  {
   "cell_type": "code",
   "execution_count": null,
   "id": "3201f93f-c238-46c8-87b0-68b37e125f71",
   "metadata": {},
   "outputs": [],
   "source": []
  },
  {
   "cell_type": "code",
   "execution_count": null,
   "id": "2eb9d9ff-0d74-48fa-9e54-915364180e14",
   "metadata": {},
   "outputs": [],
   "source": []
  },
  {
   "cell_type": "code",
   "execution_count": null,
   "id": "10b54b1e-d93b-42ee-b5fe-a7f5bb243e16",
   "metadata": {},
   "outputs": [],
   "source": []
  },
  {
   "cell_type": "code",
   "execution_count": null,
   "id": "58af0386-7978-47bc-ab13-c963498adf16",
   "metadata": {},
   "outputs": [],
   "source": []
  },
  {
   "cell_type": "code",
   "execution_count": null,
   "id": "58bbddd5-6101-4676-82b6-dd27263b0fc3",
   "metadata": {},
   "outputs": [],
   "source": []
  },
  {
   "cell_type": "code",
   "execution_count": null,
   "id": "335d14d2-7cc4-4d9a-8dff-62d74e7e27d7",
   "metadata": {},
   "outputs": [],
   "source": []
  },
  {
   "cell_type": "code",
   "execution_count": null,
   "id": "174f135f-8c4d-4cd0-b757-fc3058f351a6",
   "metadata": {},
   "outputs": [],
   "source": []
  },
  {
   "cell_type": "code",
   "execution_count": null,
   "id": "ee349bf7-9e72-456a-aab6-8fd405b291c2",
   "metadata": {},
   "outputs": [],
   "source": []
  },
  {
   "cell_type": "code",
   "execution_count": null,
   "id": "c9ad25eb-e1de-43ef-9575-1b6bd4864168",
   "metadata": {},
   "outputs": [],
   "source": []
  },
  {
   "cell_type": "code",
   "execution_count": null,
   "id": "0585ba9b-f955-4511-9c27-fa6448f6bc84",
   "metadata": {},
   "outputs": [],
   "source": []
  },
  {
   "cell_type": "code",
   "execution_count": null,
   "id": "1a604f15-bd0d-4944-bab6-fece2fb555fa",
   "metadata": {},
   "outputs": [],
   "source": []
  },
  {
   "cell_type": "code",
   "execution_count": null,
   "id": "bd08ec7b-81ba-4d28-922d-0714902298cd",
   "metadata": {},
   "outputs": [],
   "source": []
  },
  {
   "cell_type": "code",
   "execution_count": null,
   "id": "a3151bc6-6502-4807-8da0-0c828f06ca28",
   "metadata": {},
   "outputs": [],
   "source": []
  },
  {
   "cell_type": "code",
   "execution_count": null,
   "id": "4375565a-b45d-42b7-acc8-72589576aec4",
   "metadata": {},
   "outputs": [],
   "source": []
  },
  {
   "cell_type": "code",
   "execution_count": null,
   "id": "90742773-ea0a-4fcb-8974-fd5bb1bb7d42",
   "metadata": {},
   "outputs": [],
   "source": []
  },
  {
   "cell_type": "code",
   "execution_count": null,
   "id": "74d6541d-d045-4b14-811a-bc1aedc8d37d",
   "metadata": {},
   "outputs": [],
   "source": []
  },
  {
   "cell_type": "code",
   "execution_count": null,
   "id": "b26d62c8-6539-4ff8-bb51-eb2282f788b3",
   "metadata": {},
   "outputs": [],
   "source": []
  },
  {
   "cell_type": "code",
   "execution_count": null,
   "id": "895998ce-58d6-4ed2-83a5-22780de6eede",
   "metadata": {},
   "outputs": [],
   "source": []
  },
  {
   "cell_type": "code",
   "execution_count": null,
   "id": "f129f703-2f9b-4fbb-ab77-fc8130f363a8",
   "metadata": {},
   "outputs": [],
   "source": []
  },
  {
   "cell_type": "code",
   "execution_count": null,
   "id": "b781362e-d4b0-403e-9631-c50f7185267e",
   "metadata": {},
   "outputs": [],
   "source": []
  },
  {
   "cell_type": "code",
   "execution_count": null,
   "id": "374f48cb-717a-4ea0-b84d-07542dbf2fa5",
   "metadata": {},
   "outputs": [],
   "source": []
  },
  {
   "cell_type": "code",
   "execution_count": null,
   "id": "424b2679-458c-4469-a96f-226e246f5adb",
   "metadata": {},
   "outputs": [],
   "source": []
  },
  {
   "cell_type": "code",
   "execution_count": null,
   "id": "681baf86-17dd-497d-93e7-02bf9d8360e6",
   "metadata": {},
   "outputs": [],
   "source": []
  },
  {
   "cell_type": "code",
   "execution_count": null,
   "id": "de3f93aa-3db9-464b-988e-7d1ec37e8a25",
   "metadata": {},
   "outputs": [],
   "source": []
  },
  {
   "cell_type": "code",
   "execution_count": null,
   "id": "c8261413-6a5b-4044-88e4-fc68a45dbbd8",
   "metadata": {},
   "outputs": [],
   "source": []
  },
  {
   "cell_type": "code",
   "execution_count": null,
   "id": "edf04c74-7602-45c3-8b16-ef027eb9b135",
   "metadata": {},
   "outputs": [],
   "source": []
  },
  {
   "cell_type": "code",
   "execution_count": null,
   "id": "8783f815-39d6-46b2-9593-aa19f2997901",
   "metadata": {},
   "outputs": [],
   "source": []
  },
  {
   "cell_type": "code",
   "execution_count": null,
   "id": "e07f0802-e6e6-4141-aad5-788b8b7986a7",
   "metadata": {},
   "outputs": [],
   "source": []
  },
  {
   "cell_type": "code",
   "execution_count": null,
   "id": "858d3fec-184e-4ac4-8797-b02fddc29e04",
   "metadata": {},
   "outputs": [],
   "source": []
  },
  {
   "cell_type": "code",
   "execution_count": null,
   "id": "b0d6af25-959f-4392-8e05-7e2eadbbefd6",
   "metadata": {},
   "outputs": [],
   "source": []
  },
  {
   "cell_type": "code",
   "execution_count": null,
   "id": "7459160e-ae73-4248-bc43-175e8284911d",
   "metadata": {},
   "outputs": [],
   "source": []
  },
  {
   "cell_type": "code",
   "execution_count": null,
   "id": "149d64f6-d8fb-4af5-b103-8ba21dc86cf3",
   "metadata": {},
   "outputs": [],
   "source": []
  },
  {
   "cell_type": "code",
   "execution_count": null,
   "id": "72695d0b-d4ee-4b28-b544-3e83d053945f",
   "metadata": {},
   "outputs": [],
   "source": []
  },
  {
   "cell_type": "code",
   "execution_count": null,
   "id": "3be1d52c-a02d-4e07-b822-36b31de27e4c",
   "metadata": {},
   "outputs": [],
   "source": []
  },
  {
   "cell_type": "code",
   "execution_count": null,
   "id": "c5208cf0-007e-4b36-a492-c45e2bd6d8c6",
   "metadata": {},
   "outputs": [],
   "source": []
  },
  {
   "cell_type": "code",
   "execution_count": null,
   "id": "25663574-d6e5-4e82-a490-8f518e4d792e",
   "metadata": {},
   "outputs": [],
   "source": []
  },
  {
   "cell_type": "code",
   "execution_count": null,
   "id": "7108a656-9a9a-4d48-942d-dacb6ed392d2",
   "metadata": {},
   "outputs": [],
   "source": []
  }
 ],
 "metadata": {
  "kernelspec": {
   "display_name": "Python 3 (ipykernel)",
   "language": "python",
   "name": "python3"
  },
  "language_info": {
   "codemirror_mode": {
    "name": "ipython",
    "version": 3
   },
   "file_extension": ".py",
   "mimetype": "text/x-python",
   "name": "python",
   "nbconvert_exporter": "python",
   "pygments_lexer": "ipython3",
   "version": "3.12.4"
  }
 },
 "nbformat": 4,
 "nbformat_minor": 5
}
