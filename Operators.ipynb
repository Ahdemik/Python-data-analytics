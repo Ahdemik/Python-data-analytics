{
 "cells": [
  {
   "cell_type": "markdown",
   "id": "0e3b61bb-36e1-422e-ab4b-553b227755ec",
   "metadata": {},
   "source": [
    "# OPerator"
   ]
  },
  {
   "cell_type": "code",
   "execution_count": null,
   "id": "da92dd17-bb93-4dbc-ba9c-1c11dfef66aa",
   "metadata": {},
   "outputs": [],
   "source": [
    "# Operator are used to perform operations on variables and values in python"
   ]
  },
  {
   "cell_type": "markdown",
   "id": "da37c2e1-276d-4d87-9bdb-2fbc7bc11022",
   "metadata": {},
   "source": [
    "# Comparison Operators"
   ]
  },
  {
   "cell_type": "code",
   "execution_count": null,
   "id": "7adc54de-c942-4289-aef5-d956df384ebe",
   "metadata": {},
   "outputs": [],
   "source": [
    "# Comparison operators are used to confirm if values or variables are true or false\n",
    "== Equal\n",
    "!= Not Equal\n",
    "> Greater than\n",
    "< Less than\n",
    ">= Greater than or equal to\n",
    "<= Less than or equal to"
   ]
  },
  {
   "cell_type": "code",
   "execution_count": 1,
   "id": "daa1bea0-fcbc-4cec-9570-cdc141428264",
   "metadata": {},
   "outputs": [
    {
     "data": {
      "text/plain": [
       "False"
      ]
     },
     "execution_count": 1,
     "metadata": {},
     "output_type": "execute_result"
    }
   ],
   "source": [
    "40==50"
   ]
  },
  {
   "cell_type": "code",
   "execution_count": 5,
   "id": "e3623f0e-0696-463b-8369-c27fa669c0ff",
   "metadata": {},
   "outputs": [
    {
     "data": {
      "text/plain": [
       "True"
      ]
     },
     "execution_count": 5,
     "metadata": {},
     "output_type": "execute_result"
    }
   ],
   "source": [
    "10!=35"
   ]
  },
  {
   "cell_type": "code",
   "execution_count": 9,
   "id": "db65a59d-51a5-4a96-b403-8001b370b2e4",
   "metadata": {},
   "outputs": [
    {
     "data": {
      "text/plain": [
       "True"
      ]
     },
     "execution_count": 9,
     "metadata": {},
     "output_type": "execute_result"
    }
   ],
   "source": [
    "'Micheal'=='Micheal'"
   ]
  },
  {
   "cell_type": "code",
   "execution_count": 20,
   "id": "ed4056f7-ff12-4a44-bd6e-337407a98bd7",
   "metadata": {},
   "outputs": [
    {
     "data": {
      "text/plain": [
       "True"
      ]
     },
     "execution_count": 20,
     "metadata": {},
     "output_type": "execute_result"
    }
   ],
   "source": [
    "x=\"Micheal\"\n",
    "y='Victor'\n",
    "\n",
    "y != x"
   ]
  },
  {
   "cell_type": "code",
   "execution_count": 22,
   "id": "0167f1a9-0977-4f86-aa25-1c2eeba94514",
   "metadata": {},
   "outputs": [
    {
     "data": {
      "text/plain": [
       "True"
      ]
     },
     "execution_count": 22,
     "metadata": {},
     "output_type": "execute_result"
    }
   ],
   "source": [
    "10>=10"
   ]
  },
  {
   "cell_type": "markdown",
   "id": "d3748538-9721-48ff-8e70-21863fa14571",
   "metadata": {},
   "source": [
    "# Logical operators"
   ]
  },
  {
   "cell_type": "code",
   "execution_count": null,
   "id": "b05a6a38-87fb-475e-9555-90a9b2480c6d",
   "metadata": {},
   "outputs": [],
   "source": [
    "# Logical operators are used with comparison operators\n",
    "\n",
    "and returns true if both statements are true\n",
    "or returns true if one of the statemenrs is true\n",
    "not reverse the result, returns False if the result is true"
   ]
  },
  {
   "cell_type": "code",
   "execution_count": 24,
   "id": "8e6a183f-c1bb-49c8-8927-f1d0695e1b6c",
   "metadata": {},
   "outputs": [
    {
     "data": {
      "text/plain": [
       "False"
      ]
     },
     "execution_count": 24,
     "metadata": {},
     "output_type": "execute_result"
    }
   ],
   "source": [
    "(10>40) and (20>39)"
   ]
  },
  {
   "cell_type": "code",
   "execution_count": 26,
   "id": "820f1547-4e9a-4a7f-8e1c-022418f25c24",
   "metadata": {},
   "outputs": [
    {
     "data": {
      "text/plain": [
       "True"
      ]
     },
     "execution_count": 26,
     "metadata": {},
     "output_type": "execute_result"
    }
   ],
   "source": [
    "(10>5) and (20>15)"
   ]
  },
  {
   "cell_type": "code",
   "execution_count": 28,
   "id": "0e607609-cf20-40b8-929d-07b8a9026ab6",
   "metadata": {},
   "outputs": [
    {
     "data": {
      "text/plain": [
       "False"
      ]
     },
     "execution_count": 28,
     "metadata": {},
     "output_type": "execute_result"
    }
   ],
   "source": [
    "(10>40) or (20>39)"
   ]
  },
  {
   "cell_type": "code",
   "execution_count": 32,
   "id": "0dc3581c-29b9-4f8a-b0e0-fb6cbab4b4d1",
   "metadata": {},
   "outputs": [
    {
     "data": {
      "text/plain": [
       "True"
      ]
     },
     "execution_count": 32,
     "metadata": {},
     "output_type": "execute_result"
    }
   ],
   "source": [
    "(10>40) or (20>16)"
   ]
  },
  {
   "cell_type": "code",
   "execution_count": 34,
   "id": "be4ef117-5f7c-46fb-ae05-326613c923d3",
   "metadata": {},
   "outputs": [
    {
     "data": {
      "text/plain": [
       "False"
      ]
     },
     "execution_count": 34,
     "metadata": {},
     "output_type": "execute_result"
    }
   ],
   "source": [
    "('a'>'b') and (20>39)"
   ]
  },
  {
   "cell_type": "code",
   "execution_count": 38,
   "id": "4ce3c706-af6b-4ce9-ba9f-2bb6a38c8749",
   "metadata": {},
   "outputs": [
    {
     "data": {
      "text/plain": [
       "True"
      ]
     },
     "execution_count": 38,
     "metadata": {},
     "output_type": "execute_result"
    }
   ],
   "source": [
    "('a'>'b') or (20>15)"
   ]
  },
  {
   "cell_type": "code",
   "execution_count": 40,
   "id": "c3be1fd8-942a-456e-b307-947a0aa43d14",
   "metadata": {},
   "outputs": [
    {
     "data": {
      "text/plain": [
       "False"
      ]
     },
     "execution_count": 40,
     "metadata": {},
     "output_type": "execute_result"
    }
   ],
   "source": [
    "not(10<50)\n"
   ]
  },
  {
   "cell_type": "code",
   "execution_count": 44,
   "id": "3f570cc6-574b-4a3e-a458-18dcdb625326",
   "metadata": {},
   "outputs": [
    {
     "data": {
      "text/plain": [
       "True"
      ]
     },
     "execution_count": 44,
     "metadata": {},
     "output_type": "execute_result"
    }
   ],
   "source": [
    "not(50<10)"
   ]
  },
  {
   "cell_type": "markdown",
   "id": "6a9ed100-2b8f-4051-83c5-4a3d20a6ba65",
   "metadata": {},
   "source": [
    "# Membership operators"
   ]
  },
  {
   "cell_type": "code",
   "execution_count": null,
   "id": "6a021716-ef60-44ef-a94e-2e5061998ae5",
   "metadata": {},
   "outputs": [],
   "source": [
    "# checks if a value, strings, sequence is within another value,strings,sequence\n",
    "\n",
    "in Returns True if a sequence with the specified value is present in the object\n",
    "not in Returns True if a sequence with the specified value is not present in the object"
   ]
  },
  {
   "cell_type": "code",
   "execution_count": 48,
   "id": "bfd5ee21-495f-4daf-98bb-4d4541e3ff15",
   "metadata": {},
   "outputs": [],
   "source": [
    "barca_slogan= \"Long Live Barcelona\""
   ]
  },
  {
   "cell_type": "code",
   "execution_count": 52,
   "id": "c2ecd23e-efe0-4a63-94fe-4143ca63c6a0",
   "metadata": {},
   "outputs": [
    {
     "data": {
      "text/plain": [
       "True"
      ]
     },
     "execution_count": 52,
     "metadata": {},
     "output_type": "execute_result"
    }
   ],
   "source": [
    "'Barcelona' in  \"Long Live Barcelona\""
   ]
  },
  {
   "cell_type": "code",
   "execution_count": 60,
   "id": "115bcc08-6fea-423b-80f4-83bb540a1642",
   "metadata": {},
   "outputs": [
    {
     "data": {
      "text/plain": [
       "False"
      ]
     },
     "execution_count": 60,
     "metadata": {},
     "output_type": "execute_result"
    }
   ],
   "source": [
    "even_number = [2,4,6,8,10]\n",
    "odd_number= [3,5,7,9]\n",
    "zero=0\n",
    "odd_number in even_number\n"
   ]
  },
  {
   "cell_type": "code",
   "execution_count": 62,
   "id": "b83cebe9-4d5b-4871-a5b8-712bebb12f4d",
   "metadata": {},
   "outputs": [
    {
     "data": {
      "text/plain": [
       "False"
      ]
     },
     "execution_count": 62,
     "metadata": {},
     "output_type": "execute_result"
    }
   ],
   "source": [
    "zero in even_number"
   ]
  },
  {
   "cell_type": "code",
   "execution_count": 64,
   "id": "61426283-4f42-482c-81a1-55e753d75e1b",
   "metadata": {},
   "outputs": [
    {
     "data": {
      "text/plain": [
       "True"
      ]
     },
     "execution_count": 64,
     "metadata": {},
     "output_type": "execute_result"
    }
   ],
   "source": [
    "odd_number not in even_number"
   ]
  },
  {
   "cell_type": "code",
   "execution_count": null,
   "id": "006f29c0-2e18-4bfb-8489-17ecb3a1c8e5",
   "metadata": {},
   "outputs": [],
   "source": []
  }
 ],
 "metadata": {
  "kernelspec": {
   "display_name": "Python 3 (ipykernel)",
   "language": "python",
   "name": "python3"
  },
  "language_info": {
   "codemirror_mode": {
    "name": "ipython",
    "version": 3
   },
   "file_extension": ".py",
   "mimetype": "text/x-python",
   "name": "python",
   "nbconvert_exporter": "python",
   "pygments_lexer": "ipython3",
   "version": "3.12.4"
  }
 },
 "nbformat": 4,
 "nbformat_minor": 5
}
