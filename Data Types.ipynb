{
 "cells": [
  {
   "cell_type": "markdown",
   "id": "f198cdf5-374b-4e5d-b24d-4a53a7baa521",
   "metadata": {},
   "source": [
    "# Data Types"
   ]
  },
  {
   "cell_type": "code",
   "execution_count": 4,
   "id": "2b20ab99-e7ca-48fa-927b-947f8a2684a3",
   "metadata": {},
   "outputs": [
    {
     "name": "stdout",
     "output_type": "stream",
     "text": [
      "Data types is the classification of the data you are storing to tell you which operation can be performed on your data; Numeric,Sequence,Set,Boolean,Dictionary\n"
     ]
    }
   ],
   "source": [
    "Definition= 'Data types is the classification of the data you are storing to tell you which operation can be performed on your data; Numeric,Sequence,Set,Boolean,Dictionary'\n",
    "\n",
    "print(Definition)"
   ]
  },
  {
   "cell_type": "markdown",
   "id": "ea129e0c-6d03-4ae5-bb72-158d8ff9e59d",
   "metadata": {},
   "source": [
    " # Numeric Data Type; Integars(whole number), Float(decimal),Complex"
   ]
  },
  {
   "cell_type": "code",
   "execution_count": 6,
   "id": "af83874e-dbcc-4cc5-a055-e4c0bf6cc3bb",
   "metadata": {},
   "outputs": [
    {
     "data": {
      "text/plain": [
       "int"
      ]
     },
     "execution_count": 6,
     "metadata": {},
     "output_type": "execute_result"
    }
   ],
   "source": [
    "# Integar\n",
    "\n",
    "type (-10+20)"
   ]
  },
  {
   "cell_type": "code",
   "execution_count": 8,
   "id": "026576ad-35d5-408b-9d89-5a72ccdc296c",
   "metadata": {},
   "outputs": [
    {
     "data": {
      "text/plain": [
       "float"
      ]
     },
     "execution_count": 8,
     "metadata": {},
     "output_type": "execute_result"
    }
   ],
   "source": [
    "# Float\n",
    "\n",
    "type (-10+20.5)"
   ]
  },
  {
   "cell_type": "code",
   "execution_count": 10,
   "id": "ee1da7fd-98bf-4470-9057-6653463eded1",
   "metadata": {},
   "outputs": [
    {
     "data": {
      "text/plain": [
       "complex"
      ]
     },
     "execution_count": 10,
     "metadata": {},
     "output_type": "execute_result"
    }
   ],
   "source": [
    "# Complex\n",
    "\n",
    "type (-10+20j)"
   ]
  },
  {
   "cell_type": "markdown",
   "id": "5f2968b7-9de6-46e3-bbba-b3350c9add3f",
   "metadata": {},
   "source": [
    " # Boolean(True/False)"
   ]
  },
  {
   "cell_type": "code",
   "execution_count": 7,
   "id": "6a70ebfa-7f00-4362-af92-1db8c017f68f",
   "metadata": {},
   "outputs": [
    {
     "data": {
      "text/plain": [
       "bool"
      ]
     },
     "execution_count": 7,
     "metadata": {},
     "output_type": "execute_result"
    }
   ],
   "source": [
    "\n",
    "type(False)"
   ]
  },
  {
   "cell_type": "code",
   "execution_count": 13,
   "id": "303ddf10-45d9-47a6-a0ee-a0de506b3a24",
   "metadata": {},
   "outputs": [
    {
     "data": {
      "text/plain": [
       "bool"
      ]
     },
     "execution_count": 13,
     "metadata": {},
     "output_type": "execute_result"
    }
   ],
   "source": [
    "type(True)"
   ]
  },
  {
   "cell_type": "code",
   "execution_count": 11,
   "id": "f56614c2-b323-4134-9437-21f5c2a4d3e3",
   "metadata": {},
   "outputs": [
    {
     "data": {
      "text/plain": [
       "bool"
      ]
     },
     "execution_count": 11,
     "metadata": {},
     "output_type": "execute_result"
    }
   ],
   "source": [
    "type(10>15)"
   ]
  },
  {
   "cell_type": "code",
   "execution_count": 9,
   "id": "5a523a49-da12-4f14-b1ff-c31ffbfa729e",
   "metadata": {},
   "outputs": [
    {
     "data": {
      "text/plain": [
       "bool"
      ]
     },
     "execution_count": 9,
     "metadata": {},
     "output_type": "execute_result"
    }
   ],
   "source": [
    "type(1>5)"
   ]
  },
  {
   "cell_type": "code",
   "execution_count": 17,
   "id": "819eecc0-619b-4ff1-8757-6bd5c2915222",
   "metadata": {},
   "outputs": [
    {
     "data": {
      "text/plain": [
       "True"
      ]
     },
     "execution_count": 17,
     "metadata": {},
     "output_type": "execute_result"
    }
   ],
   "source": [
    "20==20"
   ]
  },
  {
   "cell_type": "code",
   "execution_count": 19,
   "id": "4c4d33d1-fde7-45a7-881b-e6174252b657",
   "metadata": {},
   "outputs": [
    {
     "data": {
      "text/plain": [
       "False"
      ]
     },
     "execution_count": 19,
     "metadata": {},
     "output_type": "execute_result"
    }
   ],
   "source": [
    "35.4>40"
   ]
  },
  {
   "cell_type": "code",
   "execution_count": 9,
   "id": "e6b2a1aa-cdb4-4b02-9e0f-d5a732522d5b",
   "metadata": {},
   "outputs": [
    {
     "data": {
      "text/plain": [
       "'Single Quote'"
      ]
     },
     "execution_count": 9,
     "metadata": {},
     "output_type": "execute_result"
    }
   ],
   "source": [
    "# strings\n",
    "\n",
    "'Single Quote'"
   ]
  },
  {
   "cell_type": "code",
   "execution_count": 11,
   "id": "223ca7fb-0eea-4453-b52d-d4f7d5f172dd",
   "metadata": {},
   "outputs": [
    {
     "data": {
      "text/plain": [
       "'Double Quote'"
      ]
     },
     "execution_count": 11,
     "metadata": {},
     "output_type": "execute_result"
    }
   ],
   "source": [
    "\"Double Quote\""
   ]
  },
  {
   "cell_type": "code",
   "execution_count": 13,
   "id": "bf557962-64d1-4035-b07f-ed11fdf025ff",
   "metadata": {},
   "outputs": [
    {
     "data": {
      "text/plain": [
       "\"My favourite Omah lay music is 'Safe Haven'.\""
      ]
     },
     "execution_count": 13,
     "metadata": {},
     "output_type": "execute_result"
    }
   ],
   "source": [
    "\"My favourite Omah lay music is 'Safe Haven'.\""
   ]
  },
  {
   "cell_type": "code",
   "execution_count": 30,
   "id": "76974a16-b711-4038-94ce-0d144e05a8c1",
   "metadata": {},
   "outputs": [],
   "source": [
    "multiline=\"\"\"\n",
    "I love my mom alot,\n",
    "I know she loves me too,\n",
    "God provide for me, so I can provide for my mom\n",
    "\n",
    "\"\"\""
   ]
  },
  {
   "cell_type": "code",
   "execution_count": 34,
   "id": "998e4221-3d4c-42bd-8c36-4a9ec5bbe553",
   "metadata": {},
   "outputs": [
    {
     "name": "stdout",
     "output_type": "stream",
     "text": [
      "\n",
      "I love my mom alot,\n",
      "I know she loves me too,\n",
      "God provide for me, so I can provide for my mom\n",
      "\n",
      "\n"
     ]
    }
   ],
   "source": [
    "print(multiline)"
   ]
  },
  {
   "cell_type": "code",
   "execution_count": null,
   "id": "e8040789-ecb0-41c3-84bd-56014d86843c",
   "metadata": {},
   "outputs": [],
   "source": [
    "# string index"
   ]
  },
  {
   "cell_type": "code",
   "execution_count": 38,
   "id": "9ea961fc-cb8d-410c-9ebc-b3cc8705b70f",
   "metadata": {},
   "outputs": [],
   "source": [
    "a = \"I love Barcelona\""
   ]
  },
  {
   "cell_type": "code",
   "execution_count": 44,
   "id": "4496da90-8ead-4058-876f-848058528e0d",
   "metadata": {},
   "outputs": [
    {
     "name": "stdout",
     "output_type": "stream",
     "text": [
      "I love\n"
     ]
    }
   ],
   "source": [
    "print(a[:6])"
   ]
  },
  {
   "cell_type": "code",
   "execution_count": 46,
   "id": "5e29e89d-0e8a-4cbc-bc0a-c124318158e9",
   "metadata": {},
   "outputs": [
    {
     "name": "stdout",
     "output_type": "stream",
     "text": [
      "o\n"
     ]
    }
   ],
   "source": [
    "print(a[3])"
   ]
  },
  {
   "cell_type": "code",
   "execution_count": 54,
   "id": "87741d17-9e11-4ee5-a113-0079e16b33cb",
   "metadata": {},
   "outputs": [
    {
     "name": "stdout",
     "output_type": "stream",
     "text": [
      "Barcelona\n"
     ]
    }
   ],
   "source": [
    "print(a[-9:])"
   ]
  },
  {
   "cell_type": "code",
   "execution_count": 58,
   "id": "4b16ddd7-6fe7-47c3-a847-0c11d4b43e60",
   "metadata": {},
   "outputs": [
    {
     "name": "stdout",
     "output_type": "stream",
     "text": [
      "love Barcelona\n"
     ]
    }
   ],
   "source": [
    "print(a[2:16])"
   ]
  },
  {
   "cell_type": "code",
   "execution_count": 60,
   "id": "56a55ffd-fe71-48a5-964f-654713e0d592",
   "metadata": {},
   "outputs": [
    {
     "data": {
      "text/plain": [
       "'I love BarcelonaI love BarcelonaI love Barcelona'"
      ]
     },
     "execution_count": 60,
     "metadata": {},
     "output_type": "execute_result"
    }
   ],
   "source": [
    "a*3"
   ]
  },
  {
   "cell_type": "code",
   "execution_count": 62,
   "id": "3c082b93-f965-4ac2-91fb-d17508c1ccac",
   "metadata": {},
   "outputs": [
    {
     "data": {
      "text/plain": [
       "'I love BarcelonaI love Barcelona'"
      ]
     },
     "execution_count": 62,
     "metadata": {},
     "output_type": "execute_result"
    }
   ],
   "source": [
    "a+a"
   ]
  },
  {
   "cell_type": "code",
   "execution_count": null,
   "id": "ab36c6c5-ede2-467c-bb91-3449cd626fdd",
   "metadata": {},
   "outputs": [],
   "source": [
    "# list\n",
    "[1,2,3]"
   ]
  },
  {
   "cell_type": "code",
   "execution_count": 64,
   "id": "418a345b-c488-458a-8308-56ce7378f3d3",
   "metadata": {},
   "outputs": [
    {
     "data": {
      "text/plain": [
       "['Rice', 'Beans', 'Paw paw']"
      ]
     },
     "execution_count": 64,
     "metadata": {},
     "output_type": "execute_result"
    }
   ],
   "source": [
    "['Rice','Beans','Paw paw']"
   ]
  },
  {
   "cell_type": "code",
   "execution_count": 66,
   "id": "cd6b2d21-9d40-41b6-95c6-bf4c0f7d0c01",
   "metadata": {},
   "outputs": [
    {
     "data": {
      "text/plain": [
       "['Rice', 'Beans', 2, ['coco yam'], 'Paw paw']"
      ]
     },
     "execution_count": 66,
     "metadata": {},
     "output_type": "execute_result"
    }
   ],
   "source": [
    "['Rice','Beans',2,['coco yam'],'Paw paw']"
   ]
  },
  {
   "cell_type": "code",
   "execution_count": null,
   "id": "2dc7edbe-cd0c-4438-b0a7-cb373b0b7290",
   "metadata": {},
   "outputs": [],
   "source": [
    "# Adding to a list"
   ]
  },
  {
   "cell_type": "code",
   "execution_count": 74,
   "id": "fff3cc7e-4971-4326-81a9-e47e233b03f3",
   "metadata": {},
   "outputs": [
    {
     "data": {
      "text/plain": [
       "['Rice', 'Beans', 'Paw paw', 'Onions']"
      ]
     },
     "execution_count": 74,
     "metadata": {},
     "output_type": "execute_result"
    }
   ],
   "source": [
    "food_item=['Rice','Beans','Paw paw']\n",
    "food_item.append('Onions')\n",
    "\n",
    "food_item"
   ]
  },
  {
   "cell_type": "code",
   "execution_count": 76,
   "id": "d627ee43-d9bc-4ea9-9508-75e26bb1cb3f",
   "metadata": {},
   "outputs": [],
   "source": [
    "# Making changes to a list"
   ]
  },
  {
   "cell_type": "code",
   "execution_count": 78,
   "id": "ac1710d3-4ea3-4c06-8267-c4eab8f7476a",
   "metadata": {},
   "outputs": [
    {
     "data": {
      "text/plain": [
       "['Rice', 'maize', 'Paw paw', 'Onions']"
      ]
     },
     "execution_count": 78,
     "metadata": {},
     "output_type": "execute_result"
    }
   ],
   "source": [
    "food_item[1]=\"maize\"\n",
    "\n",
    "food_item"
   ]
  },
  {
   "cell_type": "code",
   "execution_count": 80,
   "id": "3adb5e49-97b9-4872-8f06-6a5e858246f4",
   "metadata": {},
   "outputs": [],
   "source": [
    "# searching through a nest list"
   ]
  },
  {
   "cell_type": "code",
   "execution_count": 102,
   "id": "329815b4-13ab-4050-8b36-2c954e0870a8",
   "metadata": {},
   "outputs": [
    {
     "data": {
      "text/plain": [
       "['Rice', 'Beans', 2, ['coco yam'], 'Paw paw']"
      ]
     },
     "execution_count": 102,
     "metadata": {},
     "output_type": "execute_result"
    }
   ],
   "source": [
    "nest_list = ['Rice','Beans',2,['coco yam'],'Paw paw']\n",
    "\n",
    "nest_list"
   ]
  },
  {
   "cell_type": "code",
   "execution_count": 104,
   "id": "fa9fa03b-d58c-44ce-94b3-7a354509d283",
   "metadata": {},
   "outputs": [
    {
     "data": {
      "text/plain": [
       "'Rice'"
      ]
     },
     "execution_count": 104,
     "metadata": {},
     "output_type": "execute_result"
    }
   ],
   "source": [
    "nest_list[0]"
   ]
  },
  {
   "cell_type": "code",
   "execution_count": 108,
   "id": "874759a5-eb65-4040-8db8-c4677d9adebe",
   "metadata": {},
   "outputs": [
    {
     "data": {
      "text/plain": [
       "['coco yam']"
      ]
     },
     "execution_count": 108,
     "metadata": {},
     "output_type": "execute_result"
    }
   ],
   "source": [
    "nest_list[3]"
   ]
  },
  {
   "cell_type": "code",
   "execution_count": 118,
   "id": "605258e7-813a-40f0-9480-3174f589c013",
   "metadata": {},
   "outputs": [
    {
     "data": {
      "text/plain": [
       "(1, 2, 'Ilorin', 'Lagos', 4, 5)"
      ]
     },
     "execution_count": 118,
     "metadata": {},
     "output_type": "execute_result"
    }
   ],
   "source": [
    "# tuple cannot be changed or modified\n",
    "\n",
    "tuple_scoops = (1,2,'Ilorin','Lagos',4,5)\n",
    "tuple_scoops"
   ]
  },
  {
   "cell_type": "code",
   "execution_count": 116,
   "id": "f4fc662d-dcf9-4628-93c1-b8faf1eb75f2",
   "metadata": {},
   "outputs": [
    {
     "data": {
      "text/plain": [
       "tuple"
      ]
     },
     "execution_count": 116,
     "metadata": {},
     "output_type": "execute_result"
    }
   ],
   "source": [
    "type(tuple_scoops)"
   ]
  },
  {
   "cell_type": "code",
   "execution_count": 120,
   "id": "097aaf8f-a67a-4b2a-ab12-5a5383ec9638",
   "metadata": {},
   "outputs": [
    {
     "data": {
      "text/plain": [
       "'Lagos'"
      ]
     },
     "execution_count": 120,
     "metadata": {},
     "output_type": "execute_result"
    }
   ],
   "source": [
    "tuple_scoops[]"
   ]
  },
  {
   "cell_type": "code",
   "execution_count": 150,
   "id": "5e973167-ac94-4fce-ad47-058d670d1ee1",
   "metadata": {},
   "outputs": [],
   "source": [
    "#sets {} shows unique value\n",
    "\n",
    "monthly_pints = {1,2,3}\n",
    "                \n"
   ]
  },
  {
   "cell_type": "code",
   "execution_count": 148,
   "id": "ad416bd5-c38f-41c8-81a5-01fe188f2205",
   "metadata": {},
   "outputs": [
    {
     "data": {
      "text/plain": [
       "set"
      ]
     },
     "execution_count": 148,
     "metadata": {},
     "output_type": "execute_result"
    }
   ],
   "source": [
    "type(monthly_pints)"
   ]
  },
  {
   "cell_type": "code",
   "execution_count": 154,
   "id": "2fa3234d-396f-4061-b7eb-429f837f4776",
   "metadata": {},
   "outputs": [
    {
     "name": "stdout",
     "output_type": "stream",
     "text": [
      "{1, 2, 3}\n"
     ]
    }
   ],
   "source": [
    "print(monthly_pints)"
   ]
  },
  {
   "cell_type": "code",
   "execution_count": 13,
   "id": "41b51eaa-1564-49e9-a86c-9d25539b330b",
   "metadata": {},
   "outputs": [],
   "source": [
    "my_monthly_pints={1,1,2,2,3,4,4,4,5,66,7,7,77,8,77}"
   ]
  },
  {
   "cell_type": "code",
   "execution_count": 15,
   "id": "5f51cae3-ba53-4c0a-9210-9d08f4a22e4a",
   "metadata": {},
   "outputs": [
    {
     "name": "stdout",
     "output_type": "stream",
     "text": [
      "{1, 2, 3, 4, 5, 66, 7, 8, 77}\n"
     ]
    }
   ],
   "source": [
    "print(my_monthly_pints)"
   ]
  },
  {
   "cell_type": "code",
   "execution_count": 4,
   "id": "bcd61955-8890-45fe-bc14-3bda0909382d",
   "metadata": {},
   "outputs": [],
   "source": [
    "fine_zee_monthly_pints={0,0,3,3,4,45,6,7,8,2,2,3,8,79,6,3}"
   ]
  },
  {
   "cell_type": "code",
   "execution_count": 6,
   "id": "b45ddce1-e5a3-4d0c-88db-12e09510ab71",
   "metadata": {},
   "outputs": [
    {
     "name": "stdout",
     "output_type": "stream",
     "text": [
      "{0, 2, 3, 4, 6, 7, 8, 45, 79}\n"
     ]
    }
   ],
   "source": [
    "print(fine_zee_monthly_pints)"
   ]
  },
  {
   "cell_type": "code",
   "execution_count": 17,
   "id": "2801fcf7-ccce-48ea-bc1e-2f2a3ff5389e",
   "metadata": {},
   "outputs": [
    {
     "name": "stdout",
     "output_type": "stream",
     "text": [
      "{0, 1, 2, 3, 4, 5, 66, 7, 8, 6, 77, 45, 79}\n"
     ]
    }
   ],
   "source": [
    "# To compare the unique values in the two sets\n",
    "\n",
    "print(my_monthly_pints|fine_zee_monthly_pints)"
   ]
  },
  {
   "cell_type": "code",
   "execution_count": 19,
   "id": "d1b9588a-6006-4e1c-9ce4-0e159ff1f38c",
   "metadata": {},
   "outputs": [
    {
     "name": "stdout",
     "output_type": "stream",
     "text": [
      "{1, 66, 77, 5}\n"
     ]
    }
   ],
   "source": [
    "# To show what does not match between the two set\n",
    "\n",
    "print(my_monthly_pints-fine_zee_monthly_pints)"
   ]
  },
  {
   "cell_type": "code",
   "execution_count": 21,
   "id": "b7ef01f1-c389-4ffc-aae2-5cbaaa3e161a",
   "metadata": {},
   "outputs": [
    {
     "name": "stdout",
     "output_type": "stream",
     "text": [
      "{0, 45, 6, 79}\n"
     ]
    }
   ],
   "source": [
    "print(fine_zee_monthly_pints-my_monthly_pints)"
   ]
  },
  {
   "cell_type": "code",
   "execution_count": 23,
   "id": "9d3910e1-8030-48e4-a236-18af39dfb526",
   "metadata": {},
   "outputs": [
    {
     "name": "stdout",
     "output_type": "stream",
     "text": [
      "{0, 1, 5, 66, 6, 77, 45, 79}\n"
     ]
    }
   ],
   "source": [
    "# To show value unique value in one of the set\n",
    "print(fine_zee_monthly_pints^my_monthly_pints)"
   ]
  },
  {
   "cell_type": "code",
   "execution_count": 27,
   "id": "5a12b711-13de-4cad-bc03-7162e3eee386",
   "metadata": {},
   "outputs": [],
   "source": [
    "# Dictionaries\n",
    "#key/value pair\n",
    "\n",
    "dict_details= {'Name': 'Adeyemi Micheal', 'Age': 23, 'Job': 'Corp Member', 'Favourite Drink': ['Coke','Hollandia Yorghurt']}"
   ]
  },
  {
   "cell_type": "code",
   "execution_count": 29,
   "id": "3a1dfbc1-4042-4148-ae33-3132f1d33310",
   "metadata": {},
   "outputs": [
    {
     "data": {
      "text/plain": [
       "dict"
      ]
     },
     "execution_count": 29,
     "metadata": {},
     "output_type": "execute_result"
    }
   ],
   "source": [
    "type(dict_details)"
   ]
  },
  {
   "cell_type": "code",
   "execution_count": 95,
   "id": "415f10cb-f631-473b-9e32-d4a53f95eba9",
   "metadata": {},
   "outputs": [
    {
     "name": "stdout",
     "output_type": "stream",
     "text": [
      "{'Name': 'Adeyemi Micheal Ademola', 'Age': 23, 'Job': 'Corp Member', 'Date of Birth': '30 April 2001'}\n"
     ]
    }
   ],
   "source": [
    "print(dict_details)"
   ]
  },
  {
   "cell_type": "code",
   "execution_count": 97,
   "id": "151c3a79-cd37-4511-a829-99b9fa169a0a",
   "metadata": {},
   "outputs": [
    {
     "data": {
      "text/plain": [
       "<function dict.values>"
      ]
     },
     "execution_count": 97,
     "metadata": {},
     "output_type": "execute_result"
    }
   ],
   "source": [
    "dict_details.values()"
   ]
  },
  {
   "cell_type": "code",
   "execution_count": 43,
   "id": "3f1dad46-6eee-4ea7-a0b1-c625d8f4fead",
   "metadata": {},
   "outputs": [
    {
     "data": {
      "text/plain": [
       "dict_keys(['Name', 'Age', 'Job', 'Favourite Drink'])"
      ]
     },
     "execution_count": 43,
     "metadata": {},
     "output_type": "execute_result"
    }
   ],
   "source": [
    "dict_details.keys()"
   ]
  },
  {
   "cell_type": "code",
   "execution_count": 45,
   "id": "d68848b7-78e6-43e3-95de-2aacb28f4012",
   "metadata": {},
   "outputs": [
    {
     "data": {
      "text/plain": [
       "dict_items([('Name', 'Adeyemi Micheal'), ('Age', 23), ('Job', 'Corp Member'), ('Favourite Drink', ['Coke', 'Hollandia Yorghurt'])])"
      ]
     },
     "execution_count": 45,
     "metadata": {},
     "output_type": "execute_result"
    }
   ],
   "source": [
    "dict_details.items()"
   ]
  },
  {
   "cell_type": "code",
   "execution_count": 47,
   "id": "0c6e3308-9492-49c1-a69b-3880bdb66417",
   "metadata": {},
   "outputs": [
    {
     "data": {
      "text/plain": [
       "'Adeyemi Micheal'"
      ]
     },
     "execution_count": 47,
     "metadata": {},
     "output_type": "execute_result"
    }
   ],
   "source": [
    "# searching through a dictionaries; use the keys\n",
    "\n",
    "dict_details['Name']"
   ]
  },
  {
   "cell_type": "code",
   "execution_count": 49,
   "id": "c23b69ad-e7d0-4b62-bac9-935ef612f5da",
   "metadata": {},
   "outputs": [],
   "source": [
    "# To make changes in a dictionaries\n",
    "\n",
    "dict_details['Name']= 'Adeyemi Micheal Ademola'"
   ]
  },
  {
   "cell_type": "code",
   "execution_count": 51,
   "id": "4cdabe43-5df2-44ec-95f3-0bec28bab0b7",
   "metadata": {},
   "outputs": [
    {
     "name": "stdout",
     "output_type": "stream",
     "text": [
      "{'Name': 'Adeyemi Micheal Ademola', 'Age': 23, 'Job': 'Corp Member', 'Favourite Drink': ['Coke', 'Hollandia Yorghurt']}\n"
     ]
    }
   ],
   "source": [
    "print(dict_details)"
   ]
  },
  {
   "cell_type": "code",
   "execution_count": 99,
   "id": "f05ed0fa-62d5-4262-8ff1-4c0ce5364a20",
   "metadata": {},
   "outputs": [],
   "source": [
    "# To Update the whole dictionaries\n",
    "\n",
    "dict_details.update({'Name': 'Adeyemi Micheal Ademola', 'Age': 23,'Date of Birth': '30 April 2001', 'Job': 'Corp Member', 'Favourite Drink': ['Coke','Yorghurt']})"
   ]
  },
  {
   "cell_type": "code",
   "execution_count": 101,
   "id": "e381be03-950a-4d1c-9a49-55d7978a76c2",
   "metadata": {},
   "outputs": [
    {
     "name": "stdout",
     "output_type": "stream",
     "text": [
      "{'Name': 'Adeyemi Micheal Ademola', 'Age': 23, 'Job': 'Corp Member', 'Date of Birth': '30 April 2001', 'Favourite Drink': ['Coke', 'Yorghurt']}\n"
     ]
    }
   ],
   "source": [
    "print(dict_details)"
   ]
  },
  {
   "cell_type": "code",
   "execution_count": 83,
   "id": "617cb119-4e36-47bc-ab8f-89ffb5130ab9",
   "metadata": {},
   "outputs": [
    {
     "data": {
      "text/plain": [
       "'30 April 2001'"
      ]
     },
     "execution_count": 83,
     "metadata": {},
     "output_type": "execute_result"
    }
   ],
   "source": [
    "dict_details['Date of Birth']"
   ]
  },
  {
   "cell_type": "code",
   "execution_count": 89,
   "id": "d2fb3773-5a5c-4f01-b60d-8d9c5530d4f0",
   "metadata": {},
   "outputs": [],
   "source": [
    "# Deleting a key from a dictionaries\n",
    "\n",
    "del dict_details['Favourite Drink']"
   ]
  },
  {
   "cell_type": "code",
   "execution_count": 91,
   "id": "c0935f31-cd13-4727-9ea3-d7c3c25707cd",
   "metadata": {},
   "outputs": [
    {
     "name": "stdout",
     "output_type": "stream",
     "text": [
      "{'Name': 'Adeyemi Micheal Ademola', 'Age': 23, 'Job': 'Corp Member', 'Date of Birth': '30 April 2001'}\n"
     ]
    }
   ],
   "source": [
    "print(dict_details)"
   ]
  },
  {
   "cell_type": "code",
   "execution_count": null,
   "id": "9479077d-575c-471b-9b49-f7c1efe19537",
   "metadata": {},
   "outputs": [],
   "source": []
  }
 ],
 "metadata": {
  "kernelspec": {
   "display_name": "Python 3 (ipykernel)",
   "language": "python",
   "name": "python3"
  },
  "language_info": {
   "codemirror_mode": {
    "name": "ipython",
    "version": 3
   },
   "file_extension": ".py",
   "mimetype": "text/x-python",
   "name": "python",
   "nbconvert_exporter": "python",
   "pygments_lexer": "ipython3",
   "version": "3.12.4"
  }
 },
 "nbformat": 4,
 "nbformat_minor": 5
}
