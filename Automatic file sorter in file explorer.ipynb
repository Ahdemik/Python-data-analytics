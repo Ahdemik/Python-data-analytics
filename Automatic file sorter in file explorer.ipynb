{
 "cells": [
  {
   "cell_type": "markdown",
   "id": "08b21efb-578d-4e95-802c-354455bc3d41",
   "metadata": {},
   "source": [
    "# Automatic file sorter in file explorer"
   ]
  },
  {
   "cell_type": "code",
   "execution_count": null,
   "id": "72cc41b0-22f7-4e8f-bc04-b8e6eed14001",
   "metadata": {},
   "outputs": [],
   "source": [
    "os - operating system\n",
    "shutil- helps to perform high level operation on the files"
   ]
  },
  {
   "cell_type": "code",
   "execution_count": 1,
   "id": "f9005141-11a9-4dfa-a83d-8ad7ef143afb",
   "metadata": {},
   "outputs": [],
   "source": [
    "import os, shutil"
   ]
  },
  {
   "cell_type": "code",
   "execution_count": 17,
   "id": "5f974d69-e547-4859-8079-3d262fb94767",
   "metadata": {},
   "outputs": [],
   "source": [
    "path = r\"C:/Users/HP Pavilion/Desktop/Data analysis/Practices/personal project/Portoflio/m-kopa/\""
   ]
  },
  {
   "cell_type": "code",
   "execution_count": 19,
   "id": "6b16255e-fb82-48c5-a523-554906ea6c58",
   "metadata": {},
   "outputs": [
    {
     "data": {
      "text/plain": [
       "['(Part 1 - Questions) Technical Assessment Presentation by Adeyemi Micheal.pptx',\n",
       " '(Part 2 - Questions) Technical Assessment Answers by Adeyemi Micheal.pdf',\n",
       " 'Excel Calculations for Part 1 - Questions by Adeyemi Micheal.xlsx',\n",
       " 'Excel Calculations for Part 2 - Questions by Adeyemi Micheal.xlsx',\n",
       " 'Junior Fraud Analyst Nigeria_M-KOPA (1).xlsx',\n",
       " 'Technical Assessment Part 1.docx',\n",
       " 'Technical Assessment Part 2.docx',\n",
       " '~$chnical Assessment Part 1.docx',\n",
       " '~$Junior Fraud Analyst Nigeria_M-KOPA (1).xlsx',\n",
       " '~$Question 1 Calculations.xlsx',\n",
       " '~WRL3909.tmp']"
      ]
     },
     "execution_count": 19,
     "metadata": {},
     "output_type": "execute_result"
    }
   ],
   "source": [
    "# to list all the files in the folder\n",
    "os.listdir(path)"
   ]
  },
  {
   "cell_type": "code",
   "execution_count": 31,
   "id": "28bb8152-5ead-4a66-b1b6-6ed0de2b5d29",
   "metadata": {},
   "outputs": [],
   "source": [
    "# if the path already exist \n",
    "\n",
    "folder_names = ['Powerpoint file','Pdf files','Excel files','Doc files']\n",
    "\n",
    "for files_format in range(0,4):\n",
    "    if not os.path.exists(path + folder_names[files_format]):\n",
    "        os.makedirs(path + folder_names[files_format])"
   ]
  },
  {
   "cell_type": "code",
   "execution_count": 49,
   "id": "b81ea0b6-a901-4436-9074-585593eeb5de",
   "metadata": {},
   "outputs": [],
   "source": [
    "files_name = os.listdir(path)\n",
    "\n",
    "for file in files_name:\n",
    "    if \".pptx\" in file and not os.path.exists(path + \"Powerpoint file/\" + file):\n",
    "        shutil.move(path +file, path + \"Powerpoint file/\" + file)\n",
    "    elif \".pdf\" in file and not os.path.exists(path + \"Pdf files/\" + file):\n",
    "        shutil.move(path +file, path + \"Pdf files/\" + file)\n",
    "    elif \".xlsx\" in file and not os.path.exists(path + \"Excel files/\" + file):\n",
    "        shutil.move(path +file, path + \"Excel files/\" + file)\n",
    "    elif \".docx\" in file and not os.path.exists(path + \"Doc files/\" + file):\n",
    "        shutil.move(path +file, path + \"Doc files/\" + file)"
   ]
  },
  {
   "cell_type": "code",
   "execution_count": null,
   "id": "c7dac561-98d5-467b-b13f-2428152ba3bf",
   "metadata": {},
   "outputs": [],
   "source": []
  },
  {
   "cell_type": "code",
   "execution_count": null,
   "id": "79f864fb-6abd-469f-80ec-5999064f9356",
   "metadata": {},
   "outputs": [],
   "source": []
  },
  {
   "cell_type": "code",
   "execution_count": null,
   "id": "37353578-c367-4112-9ecf-4baee6eb366a",
   "metadata": {},
   "outputs": [],
   "source": []
  },
  {
   "cell_type": "code",
   "execution_count": null,
   "id": "2d77c02e-6c33-4c68-a32b-bac7a1edb00e",
   "metadata": {},
   "outputs": [],
   "source": []
  },
  {
   "cell_type": "code",
   "execution_count": null,
   "id": "3ff1f728-be15-44b3-88aa-f3a32cfc2a0c",
   "metadata": {},
   "outputs": [],
   "source": []
  },
  {
   "cell_type": "code",
   "execution_count": null,
   "id": "cf5eb7ce-7e12-4124-bf40-064b9e610913",
   "metadata": {},
   "outputs": [],
   "source": []
  },
  {
   "cell_type": "code",
   "execution_count": null,
   "id": "1af3866c-b0fc-452e-ae37-6d0aea5692e8",
   "metadata": {},
   "outputs": [],
   "source": []
  },
  {
   "cell_type": "code",
   "execution_count": null,
   "id": "4ccd8ccb-a067-4483-b114-ea3a8bf6a024",
   "metadata": {},
   "outputs": [],
   "source": []
  },
  {
   "cell_type": "code",
   "execution_count": null,
   "id": "4b316dd2-e91e-47cc-92b7-fe10a4af7d0a",
   "metadata": {},
   "outputs": [],
   "source": []
  },
  {
   "cell_type": "code",
   "execution_count": null,
   "id": "6f8ae6db-2c50-4785-a7d4-effda1216b0f",
   "metadata": {},
   "outputs": [],
   "source": []
  },
  {
   "cell_type": "code",
   "execution_count": null,
   "id": "63df45f4-7c6e-4316-b1ba-8092b57e7cab",
   "metadata": {},
   "outputs": [],
   "source": []
  },
  {
   "cell_type": "code",
   "execution_count": null,
   "id": "011d381c-bc24-456c-b227-f810cd878970",
   "metadata": {},
   "outputs": [],
   "source": []
  },
  {
   "cell_type": "code",
   "execution_count": null,
   "id": "d1eb902f-fa92-41d8-8d93-9c3ca7869aea",
   "metadata": {},
   "outputs": [],
   "source": []
  },
  {
   "cell_type": "code",
   "execution_count": null,
   "id": "e6679e01-85e4-49f5-a86c-f04a26975937",
   "metadata": {},
   "outputs": [],
   "source": []
  },
  {
   "cell_type": "code",
   "execution_count": null,
   "id": "bea4aaef-e1c2-4aef-a8b2-1f508f01e419",
   "metadata": {},
   "outputs": [],
   "source": []
  },
  {
   "cell_type": "code",
   "execution_count": null,
   "id": "9104233b-d742-4d1d-b183-5c53dfac6a7e",
   "metadata": {},
   "outputs": [],
   "source": []
  },
  {
   "cell_type": "code",
   "execution_count": null,
   "id": "9cd76a92-14f8-45eb-896f-1e2f4d00443b",
   "metadata": {},
   "outputs": [],
   "source": []
  },
  {
   "cell_type": "code",
   "execution_count": null,
   "id": "ae6571bd-7ff5-4013-bd58-59169168d16e",
   "metadata": {},
   "outputs": [],
   "source": []
  },
  {
   "cell_type": "code",
   "execution_count": null,
   "id": "35cf7040-611b-4c7e-9ec4-d58b2def1112",
   "metadata": {},
   "outputs": [],
   "source": []
  },
  {
   "cell_type": "code",
   "execution_count": null,
   "id": "ab806edf-7769-4d82-b290-80f1055910dc",
   "metadata": {},
   "outputs": [],
   "source": []
  },
  {
   "cell_type": "code",
   "execution_count": null,
   "id": "e7969673-e250-4406-a776-32401815498c",
   "metadata": {},
   "outputs": [],
   "source": []
  },
  {
   "cell_type": "code",
   "execution_count": null,
   "id": "64a88a6a-dca2-45bb-b057-88939fac13cd",
   "metadata": {},
   "outputs": [],
   "source": []
  },
  {
   "cell_type": "code",
   "execution_count": null,
   "id": "fddfd5bd-08ed-4312-94ba-ea8e0c3a0215",
   "metadata": {},
   "outputs": [],
   "source": []
  },
  {
   "cell_type": "code",
   "execution_count": null,
   "id": "ff36276a-cc31-4350-b536-869d6e4d59e0",
   "metadata": {},
   "outputs": [],
   "source": []
  },
  {
   "cell_type": "code",
   "execution_count": null,
   "id": "121ac02e-96db-4077-a4b9-ae88af173652",
   "metadata": {},
   "outputs": [],
   "source": []
  },
  {
   "cell_type": "code",
   "execution_count": null,
   "id": "ae16edc0-c2d1-459d-9f60-91ac409bd5f4",
   "metadata": {},
   "outputs": [],
   "source": []
  },
  {
   "cell_type": "code",
   "execution_count": null,
   "id": "8897cebb-04fd-4fdf-a09d-47415ce965cf",
   "metadata": {},
   "outputs": [],
   "source": []
  },
  {
   "cell_type": "code",
   "execution_count": null,
   "id": "82e5a46e-4515-449e-af25-6315858dbec5",
   "metadata": {},
   "outputs": [],
   "source": []
  },
  {
   "cell_type": "code",
   "execution_count": null,
   "id": "71db4f25-e765-44ce-baca-f4fc33ab105e",
   "metadata": {},
   "outputs": [],
   "source": []
  },
  {
   "cell_type": "code",
   "execution_count": null,
   "id": "1d9b24b9-f5d4-4557-b95c-141e7a62d803",
   "metadata": {},
   "outputs": [],
   "source": []
  },
  {
   "cell_type": "code",
   "execution_count": null,
   "id": "0e427a80-e3d2-479b-8a19-bd0111084a24",
   "metadata": {},
   "outputs": [],
   "source": []
  },
  {
   "cell_type": "code",
   "execution_count": null,
   "id": "4c415185-4631-42b2-9cc0-00119ef8f828",
   "metadata": {},
   "outputs": [],
   "source": []
  },
  {
   "cell_type": "code",
   "execution_count": null,
   "id": "a50497c0-8794-43c3-8f21-3e8d8452a93e",
   "metadata": {},
   "outputs": [],
   "source": []
  },
  {
   "cell_type": "code",
   "execution_count": null,
   "id": "fd0a7ead-ae27-49a3-95b7-4c2412e24117",
   "metadata": {},
   "outputs": [],
   "source": []
  },
  {
   "cell_type": "code",
   "execution_count": null,
   "id": "5123fa79-cfd5-4c01-b649-05215f4ff309",
   "metadata": {},
   "outputs": [],
   "source": []
  },
  {
   "cell_type": "code",
   "execution_count": null,
   "id": "4d774f1c-354d-4882-94ca-af9e7ad0c04b",
   "metadata": {},
   "outputs": [],
   "source": []
  },
  {
   "cell_type": "code",
   "execution_count": null,
   "id": "6c0f181f-35b9-4857-a691-3ba26162d58a",
   "metadata": {},
   "outputs": [],
   "source": []
  },
  {
   "cell_type": "code",
   "execution_count": null,
   "id": "fa5e8f77-c586-4e83-8078-435a735ac7f6",
   "metadata": {},
   "outputs": [],
   "source": []
  }
 ],
 "metadata": {
  "kernelspec": {
   "display_name": "Python 3 (ipykernel)",
   "language": "python",
   "name": "python3"
  },
  "language_info": {
   "codemirror_mode": {
    "name": "ipython",
    "version": 3
   },
   "file_extension": ".py",
   "mimetype": "text/x-python",
   "name": "python",
   "nbconvert_exporter": "python",
   "pygments_lexer": "ipython3",
   "version": "3.12.4"
  }
 },
 "nbformat": 4,
 "nbformat_minor": 5
}
