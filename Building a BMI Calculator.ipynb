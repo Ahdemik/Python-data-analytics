{
 "cells": [
  {
   "cell_type": "code",
   "execution_count": null,
   "id": "b193449d-e1e4-4328-96d7-de164d597e6b",
   "metadata": {},
   "outputs": [],
   "source": [
    "# BMI Calculator"
   ]
  },
  {
   "cell_type": "code",
   "execution_count": 7,
   "id": "a471233f-b999-48b3-9bef-9b9cbf4837ba",
   "metadata": {},
   "outputs": [
    {
     "name": "stdin",
     "output_type": "stream",
     "text": [
      " Micheal\n"
     ]
    }
   ],
   "source": [
    "weight1 = input()"
   ]
  },
  {
   "cell_type": "code",
   "execution_count": 9,
   "id": "12ffe6de-1954-4056-94b4-b06c39e2b396",
   "metadata": {},
   "outputs": [
    {
     "name": "stdout",
     "output_type": "stream",
     "text": [
      "Micheal\n"
     ]
    }
   ],
   "source": [
    "print(weight1)"
   ]
  },
  {
   "cell_type": "code",
   "execution_count": 45,
   "id": "c30a5fc7-d0f3-4294-85af-c272c76e1d03",
   "metadata": {},
   "outputs": [
    {
     "name": "stdin",
     "output_type": "stream",
     "text": [
      "Enter your name:  Micheal\n",
      "Enter your weight in pounds:  120\n",
      "Enter your height in inches:  67\n"
     ]
    },
    {
     "name": "stdout",
     "output_type": "stream",
     "text": [
      "18.792604143461794\n",
      "Micheal! you are normal weight\n"
     ]
    }
   ],
   "source": [
    "name = input(\"Enter your name: \")\n",
    "\n",
    "weight = int(input(\"Enter your weight in pounds: \"))\n",
    "\n",
    "height = int(input(\"Enter your height in inches: \"))\n",
    "\n",
    "BMI = (weight * 703) / (height * height)\n",
    "\n",
    "print(BMI)\n",
    "\n",
    "if BMI > 0:\n",
    "    if BMI < 18.5:\n",
    "        print(name + \"! you are under weight\")\n",
    "    elif BMI <= 24.9:\n",
    "        print(name + \"! you are normal weight\")\n",
    "    elif BMI <=29.9:\n",
    "        print(name + \"! you are over weight\")\n",
    "    elif BMI <=34.9:\n",
    "        print(name + \"! you are obese\")\n",
    "    elif BMI <=39.9:\n",
    "        print(name + \"! you are severely obese\")\n",
    "    elif BMI > 40:\n",
    "        print(name + \"! you are extremely obese\")\n",
    "else:\n",
    "    print(\"Invalid information\")\n"
   ]
  },
  {
   "cell_type": "code",
   "execution_count": 17,
   "id": "03d10469-a648-4b08-9f82-0a31b18029c0",
   "metadata": {},
   "outputs": [
    {
     "name": "stdout",
     "output_type": "stream",
     "text": [
      "150\n"
     ]
    }
   ],
   "source": [
    "print(weight)"
   ]
  },
  {
   "cell_type": "code",
   "execution_count": 19,
   "id": "2657606d-02b3-4ca1-95b0-f633e339fca4",
   "metadata": {},
   "outputs": [
    {
     "name": "stdout",
     "output_type": "stream",
     "text": [
      "50\n"
     ]
    }
   ],
   "source": [
    "print(height)"
   ]
  },
  {
   "cell_type": "code",
   "execution_count": 43,
   "id": "80996fd5-c4ea-410c-8c33-f71b72541055",
   "metadata": {},
   "outputs": [
    {
     "name": "stdout",
     "output_type": "stream",
     "text": [
      "Micheal! you are extremely obese\n"
     ]
    }
   ],
   "source": [
    "if BMI > 0:\n",
    "    if BMI < 18.5:\n",
    "        print(name + \"! you are under weight\")\n",
    "    elif BMI <= 24.9:\n",
    "        print(name + \"! you are normal weight\")\n",
    "    elif BMI <=29.9:\n",
    "        print(name + \"! you are over weight\")\n",
    "    elif BMI <=34.9:\n",
    "        print(name + \"! you are obese\")\n",
    "    elif BMI <=39.9:\n",
    "        print(name + \"! you are severely obese\")\n",
    "    elif BMI > 40:\n",
    "        print(name + \"! you are extremely obese\")\n",
    "else:\n",
    "    print(\"Invalid information\")\n",
    "        "
   ]
  },
  {
   "cell_type": "code",
   "execution_count": null,
   "id": "ec8fd2fe-a999-424b-b43d-c6aeaed74886",
   "metadata": {},
   "outputs": [],
   "source": [
    "\n",
    "\n"
   ]
  },
  {
   "cell_type": "code",
   "execution_count": null,
   "id": "5c26d2f2-9899-480b-a7e3-b3611c5c95fe",
   "metadata": {},
   "outputs": [],
   "source": []
  },
  {
   "cell_type": "code",
   "execution_count": null,
   "id": "cef7b89a-245a-41cf-8e52-c59a81ca7806",
   "metadata": {},
   "outputs": [],
   "source": []
  },
  {
   "cell_type": "code",
   "execution_count": null,
   "id": "5cab36b0-3563-4742-b411-d8a2aa0098b1",
   "metadata": {},
   "outputs": [],
   "source": []
  },
  {
   "cell_type": "code",
   "execution_count": null,
   "id": "c8370c8f-9d62-4a52-b777-2dc2f5486204",
   "metadata": {},
   "outputs": [],
   "source": []
  },
  {
   "cell_type": "code",
   "execution_count": null,
   "id": "18497ec4-e5ee-4aaa-9332-581297d5e4f6",
   "metadata": {},
   "outputs": [],
   "source": []
  },
  {
   "cell_type": "code",
   "execution_count": null,
   "id": "3f885b5f-e74a-4d3a-a8c7-7cfdd111b19c",
   "metadata": {},
   "outputs": [],
   "source": []
  },
  {
   "cell_type": "code",
   "execution_count": null,
   "id": "4a47e63d-0443-4426-85e9-9ad042385782",
   "metadata": {},
   "outputs": [],
   "source": []
  },
  {
   "cell_type": "code",
   "execution_count": null,
   "id": "1fec4178-0493-412a-bb2a-b48519e577f5",
   "metadata": {},
   "outputs": [],
   "source": []
  },
  {
   "cell_type": "code",
   "execution_count": null,
   "id": "206a3116-54e3-483e-af2c-339852a9d7f5",
   "metadata": {},
   "outputs": [],
   "source": []
  },
  {
   "cell_type": "code",
   "execution_count": null,
   "id": "e9b3bd2a-646d-4722-9a23-6a96c63da098",
   "metadata": {},
   "outputs": [],
   "source": []
  },
  {
   "cell_type": "code",
   "execution_count": null,
   "id": "b1ab9a12-5058-4738-926d-ffe9b3cb3e8d",
   "metadata": {},
   "outputs": [],
   "source": []
  },
  {
   "cell_type": "code",
   "execution_count": null,
   "id": "f6c49f76-1246-4eb7-b66a-fa730ae928f9",
   "metadata": {},
   "outputs": [],
   "source": []
  },
  {
   "cell_type": "code",
   "execution_count": null,
   "id": "1f312ef5-d945-4fef-8146-1b167814b95f",
   "metadata": {},
   "outputs": [],
   "source": []
  },
  {
   "cell_type": "code",
   "execution_count": null,
   "id": "cd53a654-af1d-44a2-b797-3218bb7bf2d8",
   "metadata": {},
   "outputs": [],
   "source": []
  },
  {
   "cell_type": "code",
   "execution_count": null,
   "id": "9a759d75-5cc7-46d6-8850-6d125f1f6746",
   "metadata": {},
   "outputs": [],
   "source": []
  },
  {
   "cell_type": "code",
   "execution_count": null,
   "id": "4ac7f4e4-92b9-4db5-a3bd-cc03e6ad1ca1",
   "metadata": {},
   "outputs": [],
   "source": []
  },
  {
   "cell_type": "code",
   "execution_count": null,
   "id": "ff7fb40a-cd2d-4fd7-88a4-b4e72e799642",
   "metadata": {},
   "outputs": [],
   "source": []
  },
  {
   "cell_type": "code",
   "execution_count": null,
   "id": "4942a99a-5364-4ea7-b207-24da05fb5c95",
   "metadata": {},
   "outputs": [],
   "source": []
  },
  {
   "cell_type": "code",
   "execution_count": null,
   "id": "845adef1-d1fc-426c-9e08-fdd539862fc9",
   "metadata": {},
   "outputs": [],
   "source": []
  },
  {
   "cell_type": "code",
   "execution_count": null,
   "id": "ee51c5ba-049f-4339-861f-5c0da1fadac9",
   "metadata": {},
   "outputs": [],
   "source": []
  },
  {
   "cell_type": "code",
   "execution_count": null,
   "id": "89fb57c4-16c3-4c26-bf87-d9dad1151749",
   "metadata": {},
   "outputs": [],
   "source": []
  },
  {
   "cell_type": "code",
   "execution_count": null,
   "id": "6ed49447-c14d-45f3-9c00-547dc8fe3131",
   "metadata": {},
   "outputs": [],
   "source": []
  },
  {
   "cell_type": "code",
   "execution_count": null,
   "id": "1c97a97f-f15a-4ea2-aeec-892c2b219681",
   "metadata": {},
   "outputs": [],
   "source": []
  },
  {
   "cell_type": "code",
   "execution_count": null,
   "id": "51334376-752a-4f88-bb77-08b171df745e",
   "metadata": {},
   "outputs": [],
   "source": []
  },
  {
   "cell_type": "code",
   "execution_count": null,
   "id": "c301a624-f7a5-49ab-84c7-75d916ab0a49",
   "metadata": {},
   "outputs": [],
   "source": []
  },
  {
   "cell_type": "code",
   "execution_count": null,
   "id": "2930d692-9476-4126-a6b4-689fd9cdfbf4",
   "metadata": {},
   "outputs": [],
   "source": []
  },
  {
   "cell_type": "code",
   "execution_count": null,
   "id": "368aad43-d2ff-499e-981e-c4de53d8bd94",
   "metadata": {},
   "outputs": [],
   "source": []
  },
  {
   "cell_type": "code",
   "execution_count": null,
   "id": "fa03dd0f-7ef9-4c02-b673-4e529f9c2a8e",
   "metadata": {},
   "outputs": [],
   "source": []
  },
  {
   "cell_type": "code",
   "execution_count": null,
   "id": "f019dbbf-2bab-4c47-8c91-7ed08ccdd1dc",
   "metadata": {},
   "outputs": [],
   "source": []
  },
  {
   "cell_type": "code",
   "execution_count": null,
   "id": "072ae6ce-aa82-4237-81c4-2870a053c424",
   "metadata": {},
   "outputs": [],
   "source": []
  },
  {
   "cell_type": "code",
   "execution_count": null,
   "id": "d6de8b8b-6448-424b-a131-d01d56e55ac7",
   "metadata": {},
   "outputs": [],
   "source": []
  }
 ],
 "metadata": {
  "kernelspec": {
   "display_name": "Python 3 (ipykernel)",
   "language": "python",
   "name": "python3"
  },
  "language_info": {
   "codemirror_mode": {
    "name": "ipython",
    "version": 3
   },
   "file_extension": ".py",
   "mimetype": "text/x-python",
   "name": "python",
   "nbconvert_exporter": "python",
   "pygments_lexer": "ipython3",
   "version": "3.12.4"
  }
 },
 "nbformat": 4,
 "nbformat_minor": 5
}
