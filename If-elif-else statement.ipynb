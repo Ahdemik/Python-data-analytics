{
 "cells": [
  {
   "cell_type": "markdown",
   "id": "c15223ce-370c-431c-a064-0add7668f7e9",
   "metadata": {},
   "source": [
    "# if-Elif-Else Statements"
   ]
  },
  {
   "cell_type": "code",
   "execution_count": 1,
   "id": "77032f22-6232-45fc-8a14-a4b8aaa9107a",
   "metadata": {},
   "outputs": [
    {
     "name": "stdout",
     "output_type": "stream",
     "text": [
      "Correct\n"
     ]
    }
   ],
   "source": [
    "# if statement\n",
    "if 30 < 50:\n",
    "    print(\"Correct\")"
   ]
  },
  {
   "cell_type": "code",
   "execution_count": 3,
   "id": "5e21e1d9-1648-439d-9610-ca5d3a882b82",
   "metadata": {},
   "outputs": [
    {
     "name": "stdout",
     "output_type": "stream",
     "text": [
      "Incorrect\n"
     ]
    }
   ],
   "source": [
    "# if and else statement\n",
    "if 30 > 50:\n",
    "    print(\"Correct\")\n",
    "else:\n",
    "    print(\"Incorrect\")"
   ]
  },
  {
   "cell_type": "code",
   "execution_count": 49,
   "id": "21d6586d-7649-47f3-803f-a308ee408176",
   "metadata": {},
   "outputs": [
    {
     "name": "stdout",
     "output_type": "stream",
     "text": [
      " elif 3 Correct\n"
     ]
    }
   ],
   "source": [
    "#if elif and else\n",
    "if 30 > 50:\n",
    "    print(\"Correct\")\n",
    "elif 30 > 45:\n",
    "    print(\"Correct\")\n",
    "elif 30 > 40:\n",
    "    print(\"Correct\")\n",
    "elif 30 > 35:\n",
    "    print(\"Correct\")\n",
    "else:\n",
    "    print(\"Incorrect\")"
   ]
  },
  {
   "cell_type": "code",
   "execution_count": 51,
   "id": "5479ff60-f62e-4bb4-a2fe-613f3ccc3268",
   "metadata": {},
   "outputs": [
    {
     "name": "stdout",
     "output_type": "stream",
     "text": [
      "elif 4 Correct\n"
     ]
    }
   ],
   "source": [
    "if 30 > 50:\n",
    "    print(\"Correct\")\n",
    "elif 30 > 45:\n",
    "    print(\"Correct\")\n",
    "elif 30 > 40:\n",
    "    print(\"Correct\")\n",
    "elif 30 > 35:\n",
    "    print(\"Correct\")\n",
    "elif 30 > 25:\n",
    "    print(\"elif 4 Correct\")\n",
    "else:\n",
    "    print(\"Incorrect\")"
   ]
  },
  {
   "cell_type": "code",
   "execution_count": 11,
   "id": "88bc9a48-9224-4f18-895c-9caaef7b0606",
   "metadata": {},
   "outputs": [
    {
     "name": "stdout",
     "output_type": "stream",
     "text": [
      "Correct\n"
     ]
    }
   ],
   "source": [
    "# if statement used with operator\n",
    "if 30 > 50 or 10>5:\n",
    "    print(\"Correct\")\n",
    "else:\n",
    "    print(\"Incorrect\")"
   ]
  },
  {
   "cell_type": "code",
   "execution_count": 13,
   "id": "690f72e8-1fde-4d9c-8b77-26cbc23b38cb",
   "metadata": {},
   "outputs": [
    {
     "name": "stdout",
     "output_type": "stream",
     "text": [
      "Incorrect\n"
     ]
    }
   ],
   "source": [
    "# if statement on a single row\n",
    "print('Correct') if 50 < 40 else print('Incorrect')"
   ]
  },
  {
   "cell_type": "code",
   "execution_count": 3,
   "id": "5f7e5612-71cd-40d4-ad49-af59c45b6446",
   "metadata": {},
   "outputs": [
    {
     "name": "stdout",
     "output_type": "stream",
     "text": [
      "elif 4 Correct\n"
     ]
    }
   ],
   "source": [
    "if 30 > 50 and 10 > 12:\n",
    "    print(\"Correct\") \n",
    "elif 30 > 45:\n",
    "    print(\"Correct\")\n",
    "elif 30 > 40:\n",
    "    print(\"Correct\")\n",
    "elif 30 > 35:\n",
    "    print(\"Correct\")\n",
    "elif 30 > 25:\n",
    "    print(\"elif 4 Correct\")\n",
    "else:\n",
    "    print(\"Incorrect\")"
   ]
  },
  {
   "cell_type": "code",
   "execution_count": 38,
   "id": "c5fb5ee9-1c9a-4106-a875-4032298a6851",
   "metadata": {},
   "outputs": [],
   "source": [
    "#nested if statement\n",
    "if 30 > 50:\n",
    "    print('ok')\n",
    "if (40 > 20):\n",
    "        print('Yup')\n",
    "   \n",
    "    \n"
   ]
  },
  {
   "cell_type": "code",
   "execution_count": 40,
   "id": "a94f0946-41c7-4d56-8f02-717acbe4f440",
   "metadata": {},
   "outputs": [
    {
     "name": "stdout",
     "output_type": "stream",
     "text": [
      "Yup\n"
     ]
    }
   ],
   "source": [
    "#nested if statement\n",
    "if 30 > 50 and 10 > 12:\n",
    "    print(\"Correct\") \n",
    "if (40 > 20):\n",
    "        print('Yup')\n",
    "elif 30 > 45:\n",
    "    print(\"Correct\")\n",
    "elif 30 > 40:\n",
    "    print(\"Correct\")\n",
    "elif 30 > 35:\n",
    "    print(\"Correct\")\n",
    "elif 30 > 25:\n",
    "    print(\"elif 4 Correct\")\n",
    "else:\n",
    "    print(\"Incorrect\")"
   ]
  },
  {
   "cell_type": "code",
   "execution_count": null,
   "id": "437e3f50-973d-42bf-908e-661f8212c083",
   "metadata": {},
   "outputs": [],
   "source": []
  },
  {
   "cell_type": "code",
   "execution_count": null,
   "id": "1cd2e58c-3c56-4c36-9650-34edbd65cf6e",
   "metadata": {},
   "outputs": [],
   "source": []
  },
  {
   "cell_type": "code",
   "execution_count": null,
   "id": "3590cfcd-4d57-432c-a981-adccd8d5e2ab",
   "metadata": {},
   "outputs": [],
   "source": []
  },
  {
   "cell_type": "code",
   "execution_count": null,
   "id": "e42b3a8d-7458-4312-b673-184234a88e63",
   "metadata": {},
   "outputs": [],
   "source": []
  },
  {
   "cell_type": "code",
   "execution_count": null,
   "id": "ed46128e-b9bb-4dd7-beac-361605a61c06",
   "metadata": {},
   "outputs": [],
   "source": []
  },
  {
   "cell_type": "code",
   "execution_count": null,
   "id": "9d3d8a91-ef33-4255-b3a3-b9753d7c5014",
   "metadata": {},
   "outputs": [],
   "source": []
  },
  {
   "cell_type": "code",
   "execution_count": null,
   "id": "87c15156-0d83-46c9-9fb3-699d9152ac64",
   "metadata": {},
   "outputs": [],
   "source": []
  },
  {
   "cell_type": "code",
   "execution_count": null,
   "id": "e9de96c5-fe23-4f57-bed3-28f2182f6d7c",
   "metadata": {},
   "outputs": [],
   "source": []
  },
  {
   "cell_type": "code",
   "execution_count": null,
   "id": "dc414a0c-4fe5-473a-bed5-004d09e43bbe",
   "metadata": {},
   "outputs": [],
   "source": []
  },
  {
   "cell_type": "code",
   "execution_count": null,
   "id": "cccb00f8-e887-4de0-9d75-1d58d5b2e66b",
   "metadata": {},
   "outputs": [],
   "source": []
  },
  {
   "cell_type": "code",
   "execution_count": null,
   "id": "62b15a07-0cae-4b65-a87c-cfc57c2946fd",
   "metadata": {},
   "outputs": [],
   "source": []
  },
  {
   "cell_type": "code",
   "execution_count": null,
   "id": "0d02a9cd-16b0-46af-ba67-dfc93a665f8e",
   "metadata": {},
   "outputs": [],
   "source": []
  },
  {
   "cell_type": "code",
   "execution_count": null,
   "id": "58a158c2-38a9-407c-90ff-156d93cedb8e",
   "metadata": {},
   "outputs": [],
   "source": []
  },
  {
   "cell_type": "code",
   "execution_count": null,
   "id": "2e24ad89-81a0-4b0b-8eee-96b72689b798",
   "metadata": {},
   "outputs": [],
   "source": []
  },
  {
   "cell_type": "code",
   "execution_count": null,
   "id": "2e2040bc-30b7-4267-85d8-f430f8b73e2d",
   "metadata": {},
   "outputs": [],
   "source": []
  },
  {
   "cell_type": "code",
   "execution_count": null,
   "id": "5f7b1670-e53f-4ae8-a8ff-80a30fec5677",
   "metadata": {},
   "outputs": [],
   "source": []
  },
  {
   "cell_type": "code",
   "execution_count": null,
   "id": "c9702b4d-8602-48aa-a776-b510ef1b3e33",
   "metadata": {},
   "outputs": [],
   "source": []
  }
 ],
 "metadata": {
  "kernelspec": {
   "display_name": "Python 3 (ipykernel)",
   "language": "python",
   "name": "python3"
  },
  "language_info": {
   "codemirror_mode": {
    "name": "ipython",
    "version": 3
   },
   "file_extension": ".py",
   "mimetype": "text/x-python",
   "name": "python",
   "nbconvert_exporter": "python",
   "pygments_lexer": "ipython3",
   "version": "3.12.4"
  }
 },
 "nbformat": 4,
 "nbformat_minor": 5
}
