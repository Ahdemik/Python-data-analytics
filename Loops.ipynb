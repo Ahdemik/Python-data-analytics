{
 "cells": [
  {
   "cell_type": "markdown",
   "id": "f9b089ea-7ff7-4087-a42b-666b36040b1e",
   "metadata": {},
   "source": [
    "# For loops\n",
    "used to iterate over a sequence which could be list,tuple,string,dictionary"
   ]
  },
  {
   "cell_type": "code",
   "execution_count": 5,
   "id": "154c9e4c-34b3-42dc-bd4b-064af33b4556",
   "metadata": {},
   "outputs": [],
   "source": [
    "integers=[1,2,3,4,5]"
   ]
  },
  {
   "cell_type": "code",
   "execution_count": 9,
   "id": "f7034987-95b8-4f9c-b930-d040b411f485",
   "metadata": {},
   "outputs": [
    {
     "name": "stdout",
     "output_type": "stream",
     "text": [
      "1\n",
      "2\n",
      "3\n",
      "4\n",
      "5\n"
     ]
    }
   ],
   "source": [
    "for number in integers:\n",
    "    print(number)\n",
    "    "
   ]
  },
  {
   "cell_type": "code",
   "execution_count": 11,
   "id": "d946c41c-4d1e-493d-981d-469835fc2ff8",
   "metadata": {},
   "outputs": [
    {
     "name": "stdout",
     "output_type": "stream",
     "text": [
      "yep!\n",
      "yep!\n",
      "yep!\n",
      "yep!\n",
      "yep!\n"
     ]
    }
   ],
   "source": [
    "for number in integers:\n",
    "    print(\"yep!\")"
   ]
  },
  {
   "cell_type": "code",
   "execution_count": 13,
   "id": "785c81ad-00ca-42b7-8072-96c87f6a0859",
   "metadata": {},
   "outputs": [
    {
     "name": "stdout",
     "output_type": "stream",
     "text": [
      "2\n",
      "4\n",
      "6\n",
      "8\n",
      "10\n"
     ]
    }
   ],
   "source": [
    "for add in integers:\n",
    "    print(add + add)"
   ]
  },
  {
   "cell_type": "code",
   "execution_count": 3,
   "id": "6c455f9c-6b12-4b8a-a42b-969a02ce48a8",
   "metadata": {},
   "outputs": [],
   "source": [
    "detail={'Name': 'Adeyemi Micheal', 'Age': 23, 'Favourite colour': ['Black','White']}"
   ]
  },
  {
   "cell_type": "code",
   "execution_count": 9,
   "id": "bc7dbd00-dfda-4895-bb85-c008ce9893ee",
   "metadata": {},
   "outputs": [
    {
     "name": "stdout",
     "output_type": "stream",
     "text": [
      "Adeyemi Micheal\n",
      "23\n",
      "['Black', 'White']\n"
     ]
    }
   ],
   "source": [
    "# using for loops to fetch data from a dictionaries\n",
    "\n",
    "for details in detail.values():\n",
    "    print(details)\n",
    "    "
   ]
  },
  {
   "cell_type": "code",
   "execution_count": 13,
   "id": "a46fb95c-236d-49e0-acde-818dd95573d8",
   "metadata": {},
   "outputs": [
    {
     "name": "stdout",
     "output_type": "stream",
     "text": [
      "Name : Adeyemi Micheal\n",
      "Age : 23\n",
      "Favourite colour : ['Black', 'White']\n"
     ]
    }
   ],
   "source": [
    "for key, value in detail.items():\n",
    "    print(key, ':',value)"
   ]
  },
  {
   "cell_type": "markdown",
   "id": "56d6e3ff-6d90-4841-a570-ad57d91ed8da",
   "metadata": {},
   "source": [
    "# Nested for loops"
   ]
  },
  {
   "cell_type": "code",
   "execution_count": 21,
   "id": "f3ee1624-e34c-4e62-a48f-ed84f0552d42",
   "metadata": {},
   "outputs": [],
   "source": [
    "mike_detail=['Adeyemi Micheal', 'Black','White']\n",
    "vic_detail=['Adeyemi Victor', 'Red','Yellow']"
   ]
  },
  {
   "cell_type": "code",
   "execution_count": 23,
   "id": "bad11d1d-983a-4a93-bb15-c718de04bd2c",
   "metadata": {},
   "outputs": [
    {
     "name": "stdout",
     "output_type": "stream",
     "text": [
      "['Adeyemi Micheal', 'Black', 'White'] & Adeyemi Victor\n",
      "['Adeyemi Micheal', 'Black', 'White'] & Red\n",
      "['Adeyemi Micheal', 'Black', 'White'] & Yellow\n",
      "['Adeyemi Micheal', 'Black', 'White'] & Adeyemi Victor\n",
      "['Adeyemi Micheal', 'Black', 'White'] & Red\n",
      "['Adeyemi Micheal', 'Black', 'White'] & Yellow\n",
      "['Adeyemi Micheal', 'Black', 'White'] & Adeyemi Victor\n",
      "['Adeyemi Micheal', 'Black', 'White'] & Red\n",
      "['Adeyemi Micheal', 'Black', 'White'] & Yellow\n"
     ]
    }
   ],
   "source": [
    "for mike_details in mike_detail:\n",
    "    for vic_details in vic_detail:\n",
    "        print(mike_detail,'&',vic_details)"
   ]
  },
  {
   "cell_type": "markdown",
   "id": "0453b786-cffe-4765-9a8e-9afe9b3b7b22",
   "metadata": {},
   "source": [
    "# While loops\n",
    "\n",
    "iterate over a block of code as long as the test conditions are met."
   ]
  },
  {
   "cell_type": "code",
   "execution_count": 1,
   "id": "e99f9910-7830-4747-8c4a-405fc1bdbe98",
   "metadata": {},
   "outputs": [
    {
     "name": "stdout",
     "output_type": "stream",
     "text": [
      "0\n",
      "1\n",
      "2\n",
      "3\n",
      "4\n"
     ]
    }
   ],
   "source": [
    "number = 0\n",
    "\n",
    "while number <5:\n",
    "    print(number)\n",
    "    number= number + 1"
   ]
  },
  {
   "cell_type": "code",
   "execution_count": 13,
   "id": "82e03781-a27f-4269-90f3-5897e2fd868b",
   "metadata": {},
   "outputs": [
    {
     "name": "stdout",
     "output_type": "stream",
     "text": [
      "0\n",
      "1\n",
      "2\n",
      "3\n"
     ]
    }
   ],
   "source": [
    "# break statement\n",
    "\n",
    "number = 0\n",
    "\n",
    "while number <5:\n",
    "    print(number)\n",
    "    if number ==3:\n",
    "        break\n",
    "    number= number + 1"
   ]
  },
  {
   "cell_type": "code",
   "execution_count": 15,
   "id": "c72435aa-0cd7-4595-ae9d-414e2b4768df",
   "metadata": {},
   "outputs": [
    {
     "name": "stdout",
     "output_type": "stream",
     "text": [
      "1\n",
      "2\n",
      "3\n",
      "4\n",
      "5\n",
      "6\n",
      "7\n",
      "No longer < 5\n"
     ]
    }
   ],
   "source": [
    "number = 1\n",
    "\n",
    "while number <8:\n",
    "    print(number)\n",
    "    if number ==10:\n",
    "        break\n",
    "    number= number + 1\n",
    "else:\n",
    "    print('No longer < 5')"
   ]
  },
  {
   "cell_type": "code",
   "execution_count": 27,
   "id": "00c9caca-073d-4365-8341-fd8d17583718",
   "metadata": {},
   "outputs": [
    {
     "name": "stdout",
     "output_type": "stream",
     "text": [
      "2\n",
      "4\n",
      "5\n",
      "No longer < 5\n"
     ]
    }
   ],
   "source": [
    "# continue statement\n",
    "\n",
    "number = 1\n",
    "\n",
    "while number <5:\n",
    "    number = number + 1 \n",
    "    if number ==3:\n",
    "        continue\n",
    "    print(number)\n",
    "else:\n",
    "    print('No longer < 5')"
   ]
  },
  {
   "cell_type": "code",
   "execution_count": null,
   "id": "b5a87b17-1500-4ed4-8e9e-f9229d59790f",
   "metadata": {},
   "outputs": [],
   "source": []
  },
  {
   "cell_type": "code",
   "execution_count": null,
   "id": "d8d459e0-c47a-4d50-ac57-4f92a8141c6a",
   "metadata": {},
   "outputs": [],
   "source": []
  },
  {
   "cell_type": "code",
   "execution_count": null,
   "id": "247c43b6-83a3-476f-a3b3-f2748de2c3c5",
   "metadata": {},
   "outputs": [],
   "source": []
  },
  {
   "cell_type": "code",
   "execution_count": null,
   "id": "bcb63ccc-aaa7-4c4b-9030-a3418192e926",
   "metadata": {},
   "outputs": [],
   "source": []
  },
  {
   "cell_type": "code",
   "execution_count": null,
   "id": "d26c107a-579a-4d30-a490-a99c254c7a2e",
   "metadata": {},
   "outputs": [],
   "source": []
  },
  {
   "cell_type": "code",
   "execution_count": null,
   "id": "e01735a2-59bb-49ca-a66a-e05ef9cb8829",
   "metadata": {},
   "outputs": [],
   "source": []
  },
  {
   "cell_type": "code",
   "execution_count": null,
   "id": "b8d958d3-da48-43fc-a437-38bcfd0a90c0",
   "metadata": {},
   "outputs": [],
   "source": []
  },
  {
   "cell_type": "code",
   "execution_count": null,
   "id": "ce86411a-c13c-4f1f-966a-d1eeef8e898f",
   "metadata": {},
   "outputs": [],
   "source": []
  },
  {
   "cell_type": "code",
   "execution_count": null,
   "id": "f50211e8-2fa4-4239-93ec-d13f3bcc1114",
   "metadata": {},
   "outputs": [],
   "source": []
  },
  {
   "cell_type": "code",
   "execution_count": null,
   "id": "b397aabb-76a1-4be0-9f2a-9a88a686d7a8",
   "metadata": {},
   "outputs": [],
   "source": []
  },
  {
   "cell_type": "code",
   "execution_count": null,
   "id": "251faa06-33f6-4e71-93c0-17288f5e8371",
   "metadata": {},
   "outputs": [],
   "source": []
  },
  {
   "cell_type": "code",
   "execution_count": null,
   "id": "2d7d038c-09d8-48a1-baed-6dc349826c8e",
   "metadata": {},
   "outputs": [],
   "source": []
  },
  {
   "cell_type": "code",
   "execution_count": null,
   "id": "30c6b265-57d8-46d7-87c4-d05720f35f94",
   "metadata": {},
   "outputs": [],
   "source": []
  },
  {
   "cell_type": "code",
   "execution_count": null,
   "id": "55830d8a-69ad-430f-818f-d0ac29c5a328",
   "metadata": {},
   "outputs": [],
   "source": []
  },
  {
   "cell_type": "code",
   "execution_count": null,
   "id": "72ae7509-27a2-424f-b660-4170e2b08eda",
   "metadata": {},
   "outputs": [],
   "source": []
  },
  {
   "cell_type": "code",
   "execution_count": null,
   "id": "8199188e-6784-4ea2-b82b-e94a4db754b1",
   "metadata": {},
   "outputs": [],
   "source": []
  },
  {
   "cell_type": "code",
   "execution_count": null,
   "id": "0be3e1b6-b7d4-466a-abec-0cf255e11c38",
   "metadata": {},
   "outputs": [],
   "source": []
  },
  {
   "cell_type": "code",
   "execution_count": null,
   "id": "c2ad3f72-4229-4505-8123-fc2b6c68f69c",
   "metadata": {},
   "outputs": [],
   "source": []
  },
  {
   "cell_type": "code",
   "execution_count": null,
   "id": "ef2a61ca-a2c3-47f8-9c80-eafd61a32112",
   "metadata": {},
   "outputs": [],
   "source": []
  },
  {
   "cell_type": "code",
   "execution_count": null,
   "id": "fd781017-22bf-45ba-b6e4-f3ecc61c4046",
   "metadata": {},
   "outputs": [],
   "source": []
  },
  {
   "cell_type": "code",
   "execution_count": null,
   "id": "0c6e42c2-b62e-43fd-a599-d23b8c2619f8",
   "metadata": {},
   "outputs": [],
   "source": []
  },
  {
   "cell_type": "code",
   "execution_count": null,
   "id": "214e9fa5-ee6e-41f4-830c-36d5fd71273b",
   "metadata": {},
   "outputs": [],
   "source": []
  },
  {
   "cell_type": "code",
   "execution_count": null,
   "id": "a8eee514-03f6-425e-a6db-f8f04396653e",
   "metadata": {},
   "outputs": [],
   "source": []
  },
  {
   "cell_type": "code",
   "execution_count": null,
   "id": "585de928-10f2-4b8c-8637-e734dba32078",
   "metadata": {},
   "outputs": [],
   "source": []
  },
  {
   "cell_type": "code",
   "execution_count": null,
   "id": "a5f55201-7a31-452f-8315-f9d683553522",
   "metadata": {},
   "outputs": [],
   "source": []
  },
  {
   "cell_type": "code",
   "execution_count": null,
   "id": "7d9567c7-a818-48a8-8e7c-0c8bbaf5730b",
   "metadata": {},
   "outputs": [],
   "source": []
  },
  {
   "cell_type": "code",
   "execution_count": null,
   "id": "891b644a-d6b1-42f8-a5c4-1a8fec520acd",
   "metadata": {},
   "outputs": [],
   "source": []
  },
  {
   "cell_type": "code",
   "execution_count": null,
   "id": "be7d56c5-cdf3-4d8e-b42c-affc15a2b450",
   "metadata": {},
   "outputs": [],
   "source": []
  },
  {
   "cell_type": "code",
   "execution_count": null,
   "id": "022f340e-fec3-4d42-bcf1-f41ec392cdc5",
   "metadata": {},
   "outputs": [],
   "source": []
  },
  {
   "cell_type": "code",
   "execution_count": null,
   "id": "0b449618-b5ff-4841-aeff-c721814f6f92",
   "metadata": {},
   "outputs": [],
   "source": []
  }
 ],
 "metadata": {
  "kernelspec": {
   "display_name": "Python 3 (ipykernel)",
   "language": "python",
   "name": "python3"
  },
  "language_info": {
   "codemirror_mode": {
    "name": "ipython",
    "version": 3
   },
   "file_extension": ".py",
   "mimetype": "text/x-python",
   "name": "python",
   "nbconvert_exporter": "python",
   "pygments_lexer": "ipython3",
   "version": "3.12.4"
  }
 },
 "nbformat": 4,
 "nbformat_minor": 5
}
